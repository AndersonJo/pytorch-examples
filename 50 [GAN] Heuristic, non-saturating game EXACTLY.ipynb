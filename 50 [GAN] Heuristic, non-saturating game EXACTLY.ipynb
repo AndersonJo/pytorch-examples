{
 "cells": [
  {
   "cell_type": "code",
   "execution_count": 1,
   "metadata": {
    "collapsed": false,
    "deletable": true,
    "editable": true
   },
   "outputs": [
    {
     "name": "stdout",
     "output_type": "stream",
     "text": [
      "Populating the interactive namespace from numpy and matplotlib\n"
     ]
    }
   ],
   "source": [
    "%pylab inline\n",
    "import numpy as np\n",
    "import torch\n",
    "\n",
    "from torch import nn\n",
    "from torch import optim\n",
    "from torch.nn import functional as F\n",
    "from torch.autograd import Variable\n",
    "from torch.utils.data import dataloader\n",
    "\n",
    "from torchvision import transforms\n",
    "from torchvision.datasets import MNIST\n",
    "\n",
    "from graphviz import Digraph"
   ]
  },
  {
   "cell_type": "markdown",
   "metadata": {
    "deletable": true,
    "editable": true
   },
   "source": [
    "## Configuration"
   ]
  },
  {
   "cell_type": "code",
   "execution_count": 2,
   "metadata": {
    "collapsed": true,
    "deletable": true,
    "editable": true
   },
   "outputs": [],
   "source": [
    "BATCH_SIZE = 32"
   ]
  },
  {
   "cell_type": "markdown",
   "metadata": {
    "deletable": true,
    "editable": true
   },
   "source": [
    "## Data (MNIST)"
   ]
  },
  {
   "cell_type": "code",
   "execution_count": 3,
   "metadata": {
    "collapsed": false,
    "deletable": true,
    "editable": true
   },
   "outputs": [],
   "source": [
    "train = MNIST('./data', train=True, download=True, transform=transforms.Compose([\n",
    "    transforms.ToTensor(), # ToTensor does min-max normalization. \n",
    "]), )\n",
    "\n",
    "test = MNIST('./data', train=False, download=True, transform=transforms.Compose([\n",
    "    transforms.ToTensor(), # ToTensor does min-max normalization. \n",
    "    \n",
    "]), )\n",
    "\n",
    "# Create DataLoader\n",
    "dataloader_args = dict(shuffle=True, batch_size=BATCH_SIZE ,num_workers=1, pin_memory=True)\n",
    "train_loader = dataloader.DataLoader(train, **dataloader_args)\n",
    "test_loader = dataloader.DataLoader(test, **dataloader_args)"
   ]
  },
  {
   "cell_type": "markdown",
   "metadata": {
    "deletable": true,
    "editable": true
   },
   "source": [
    "## Model Discriminator\n",
    "\n",
    "### Discriminator\n",
    "\n",
    "* $ x_i \\sim P_{\\rm data} $ (즉 true data distribution) 에서 왔다면 1\n",
    "* $ x_i = G(z) $ 이때 $ z \\sim p_{\\rm generator} $ (generators' distribution)에서 왔다면 0\n",
    "\n",
    "즉 Discriminator는 \"이 사진이 진짜냐? (가짜가 아니고)\" 라고 질문하는 것"
   ]
  },
  {
   "cell_type": "code",
   "execution_count": 4,
   "metadata": {
    "collapsed": false,
    "deletable": true,
    "editable": true
   },
   "outputs": [
    {
     "name": "stdout",
     "output_type": "stream",
     "text": [
      "Discriminator (\n",
      "  (fc1): Linear (784 -> 548)\n",
      "  (fc2): Linear (548 -> 252)\n",
      "  (fc3): Linear (252 -> 1)\n",
      "  (bc1): BatchNorm1d(548, eps=1e-05, momentum=0.1, affine=True)\n",
      "  (bc2): BatchNorm1d(252, eps=1e-05, momentum=0.1, affine=True)\n",
      ")\n"
     ]
    }
   ],
   "source": [
    "class Discriminator(nn.Module):\n",
    "    def __init__(self):\n",
    "        super(Discriminator, self).__init__()\n",
    "        \n",
    "        self.fc1 = nn.Linear(784, 548)\n",
    "        self.fc2 = nn.Linear(548, 252)\n",
    "        self.fc3 = nn.Linear(252, 1)\n",
    "        \n",
    "        self.bc1 = nn.BatchNorm1d(548)\n",
    "        self.bc2 = nn.BatchNorm1d(252)\n",
    "                \n",
    "    def forward(self, x):\n",
    "        x = x.view((-1, 784))\n",
    "        h = self.fc1(x)\n",
    "        h = self.bc1(h)\n",
    "        h = F.relu(h)\n",
    "        h = F.dropout(h, p=0.5, training=self.training)\n",
    "        \n",
    "        h = self.fc2(h)\n",
    "        h = self.bc2(h)\n",
    "        h = F.relu(h)\n",
    "        h = F.dropout(h, p=0.2, training=self.training)\n",
    "        \n",
    "        h = self.fc3(h)\n",
    "        out = F.sigmoid(h)\n",
    "        return out\n",
    "\n",
    "D = Discriminator()\n",
    "print(D.cuda()) # CUDA!\n",
    "d_optimizer = optim.Adam(D.parameters(), lr=0.001)"
   ]
  },
  {
   "cell_type": "markdown",
   "metadata": {
    "deletable": true,
    "editable": true
   },
   "source": [
    "### Generator"
   ]
  },
  {
   "cell_type": "code",
   "execution_count": 5,
   "metadata": {
    "collapsed": false,
    "deletable": true,
    "editable": true,
    "scrolled": false
   },
   "outputs": [
    {
     "name": "stdout",
     "output_type": "stream",
     "text": [
      "Generator (\n",
      "  (fc1): Linear (100 -> 196)\n",
      "  (fc2): Linear (196 -> 289)\n",
      "  (fc3): Linear (289 -> 361)\n",
      "  (fc4): Linear (361 -> 529)\n",
      "  (fc5): Linear (529 -> 784)\n",
      "  (bc1): BatchNorm1d(196, eps=1e-05, momentum=0.1, affine=True)\n",
      "  (bc2): BatchNorm1d(289, eps=1e-05, momentum=0.1, affine=True)\n",
      "  (bc3): BatchNorm1d(361, eps=1e-05, momentum=0.1, affine=True)\n",
      "  (bc4): BatchNorm1d(529, eps=1e-05, momentum=0.1, affine=True)\n",
      ")\n"
     ]
    }
   ],
   "source": [
    "class Generator(nn.Module):\n",
    "    def __init__(self):\n",
    "        super(Generator, self).__init__()\n",
    "        \n",
    "        self.fc1 = nn.Linear(100, 196)\n",
    "        self.fc2 = nn.Linear(196, 289)\n",
    "        self.fc3 = nn.Linear(289, 361)\n",
    "        self.fc4 = nn.Linear(361, 529)\n",
    "        self.fc5 = nn.Linear(529, 784)\n",
    "        \n",
    "        self.bc1 = nn.BatchNorm1d(196)\n",
    "        self.bc2 = nn.BatchNorm1d(289)\n",
    "        self.bc3 = nn.BatchNorm1d(361)\n",
    "        self.bc4 = nn.BatchNorm1d(529)\n",
    "    \n",
    "    def forward(self, x):\n",
    "        h = self.fc1(x)\n",
    "        h = self.bc1(h)\n",
    "        h = F.relu(h)\n",
    "        h = F.dropout(h, p=0.5, training=self.training)\n",
    "        \n",
    "        h = self.fc2(h)\n",
    "        h = self.bc2(h)\n",
    "        h = F.relu(h)\n",
    "        h = F.dropout(h, p=0.3, training=self.training)\n",
    "        \n",
    "        h = self.fc3(h)\n",
    "        h = self.bc3(h)\n",
    "        h = F.relu(h)\n",
    "        h = F.dropout(h, p=0.2, training=self.training)\n",
    "        \n",
    "        h = self.fc4(h)\n",
    "        h = self.bc4(h)\n",
    "        h = F.relu(h)\n",
    "        h = F.dropout(h, p=0.2, training=self.training)\n",
    "        \n",
    "        h = self.fc5(h)\n",
    "        out = F.sigmoid(h)\n",
    "        return out\n",
    "\n",
    "G = Generator()\n",
    "print(G.cuda())\n",
    "g_optimizer = optim.Adam(G.parameters(), lr=0.001)"
   ]
  },
  {
   "cell_type": "markdown",
   "metadata": {
    "deletable": true,
    "editable": true
   },
   "source": [
    "## Visualization"
   ]
  },
  {
   "cell_type": "code",
   "execution_count": 6,
   "metadata": {
    "collapsed": true,
    "deletable": true,
    "editable": true
   },
   "outputs": [],
   "source": [
    "def make_dot(var):\n",
    "    node_attr = dict(style='filled',\n",
    "                     shape='box',\n",
    "                     align='left',\n",
    "                     fontsize='12',\n",
    "                     ranksep='0.1',\n",
    "                     height='0.2')\n",
    "    dot = Digraph(node_attr=node_attr, graph_attr=dict(size=\"12,12\"))\n",
    "    seen = set()\n",
    "\n",
    "    def add_nodes(var):\n",
    "        if var not in seen:\n",
    "            if isinstance(var, Variable):\n",
    "                value = '('+(', ').join(['%d'% v for v in var.size()])+')'\n",
    "                dot.node(str(id(var)), str(value), fillcolor='lightblue')\n",
    "            else:\n",
    "                dot.node(str(id(var)), str(type(var).__name__))\n",
    "            seen.add(var)\n",
    "            if hasattr(var, 'previous_functions'):\n",
    "                for u in var.previous_functions:\n",
    "                    dot.edge(str(id(u[0])), str(id(var)))\n",
    "                    add_nodes(u[0])\n",
    "    add_nodes(var.creator)\n",
    "    return dot"
   ]
  },
  {
   "cell_type": "code",
   "execution_count": 7,
   "metadata": {
    "collapsed": false,
    "deletable": true,
    "editable": true
   },
   "outputs": [
    {
     "data": {
      "image/svg+xml": [
       "<?xml version=\"1.0\" encoding=\"UTF-8\" standalone=\"no\"?>\n",
       "<!DOCTYPE svg PUBLIC \"-//W3C//DTD SVG 1.1//EN\"\n",
       " \"http://www.w3.org/Graphics/SVG/1.1/DTD/svg11.dtd\">\n",
       "<!-- Generated by graphviz version 2.38.0 (20140413.2041)\n",
       " -->\n",
       "<!-- Title: %3 Pages: 1 -->\n",
       "<svg width=\"241pt\" height=\"257pt\"\n",
       " viewBox=\"0.00 0.00 240.50 257.00\" xmlns=\"http://www.w3.org/2000/svg\" xmlns:xlink=\"http://www.w3.org/1999/xlink\">\n",
       "<g id=\"graph0\" class=\"graph\" transform=\"scale(1 1) rotate(0) translate(4 253)\">\n",
       "<title>%3</title>\n",
       "<polygon fill=\"white\" stroke=\"none\" points=\"-4,4 -4,-253 236.5,-253 236.5,4 -4,4\"/>\n",
       "<!-- 140119693155688 -->\n",
       "<g id=\"node1\" class=\"node\"><title>140119693155688</title>\n",
       "<polygon fill=\"lightgrey\" stroke=\"black\" points=\"161.5,-21 105.5,-21 105.5,-0 161.5,-0 161.5,-21\"/>\n",
       "<text text-anchor=\"middle\" x=\"133.5\" y=\"-7.4\" font-family=\"Times,serif\" font-size=\"12.00\">Sigmoid</text>\n",
       "</g>\n",
       "<!-- 140119693153448 -->\n",
       "<g id=\"node2\" class=\"node\"><title>140119693153448</title>\n",
       "<polygon fill=\"lightgrey\" stroke=\"black\" points=\"160.5,-78 106.5,-78 106.5,-57 160.5,-57 160.5,-78\"/>\n",
       "<text text-anchor=\"middle\" x=\"133.5\" y=\"-64.4\" font-family=\"Times,serif\" font-size=\"12.00\">Linear</text>\n",
       "</g>\n",
       "<!-- 140119693153448&#45;&gt;140119693155688 -->\n",
       "<g id=\"edge1\" class=\"edge\"><title>140119693153448&#45;&gt;140119693155688</title>\n",
       "<path fill=\"none\" stroke=\"black\" d=\"M133.5,-56.9197C133.5,-49.9083 133.5,-40.1442 133.5,-31.4652\"/>\n",
       "<polygon fill=\"black\" stroke=\"black\" points=\"137,-31.3408 133.5,-21.3408 130,-31.3409 137,-31.3408\"/>\n",
       "</g>\n",
       "<!-- 140119693153896 -->\n",
       "<g id=\"node3\" class=\"node\"><title>140119693153896</title>\n",
       "<polygon fill=\"lightgrey\" stroke=\"black\" points=\"88.5,-135 32.5,-135 32.5,-114 88.5,-114 88.5,-135\"/>\n",
       "<text text-anchor=\"middle\" x=\"60.5\" y=\"-121.4\" font-family=\"Times,serif\" font-size=\"12.00\">Dropout</text>\n",
       "</g>\n",
       "<!-- 140119693153896&#45;&gt;140119693153448 -->\n",
       "<g id=\"edge2\" class=\"edge\"><title>140119693153896&#45;&gt;140119693153448</title>\n",
       "<path fill=\"none\" stroke=\"black\" d=\"M73.2156,-113.92C83.9693,-105.818 99.6016,-94.0399 112.253,-84.5082\"/>\n",
       "<polygon fill=\"black\" stroke=\"black\" points=\"114.558,-87.1538 120.439,-78.3408 110.346,-81.563 114.558,-87.1538\"/>\n",
       "</g>\n",
       "<!-- 140119693153224 -->\n",
       "<g id=\"node4\" class=\"node\"><title>140119693153224</title>\n",
       "<polygon fill=\"lightgrey\" stroke=\"black\" points=\"93,-192 28,-192 28,-171 93,-171 93,-192\"/>\n",
       "<text text-anchor=\"middle\" x=\"60.5\" y=\"-178.4\" font-family=\"Times,serif\" font-size=\"12.00\">Threshold</text>\n",
       "</g>\n",
       "<!-- 140119693153224&#45;&gt;140119693153896 -->\n",
       "<g id=\"edge3\" class=\"edge\"><title>140119693153224&#45;&gt;140119693153896</title>\n",
       "<path fill=\"none\" stroke=\"black\" d=\"M60.5,-170.92C60.5,-163.908 60.5,-154.144 60.5,-145.465\"/>\n",
       "<polygon fill=\"black\" stroke=\"black\" points=\"64.0001,-145.341 60.5,-135.341 57.0001,-145.341 64.0001,-145.341\"/>\n",
       "</g>\n",
       "<!-- 140119693200016 -->\n",
       "<g id=\"node5\" class=\"node\"><title>140119693200016</title>\n",
       "<polygon fill=\"lightgrey\" stroke=\"black\" points=\"121,-249 7.10543e-15,-249 7.10543e-15,-228 121,-228 121,-249\"/>\n",
       "<text text-anchor=\"middle\" x=\"60.5\" y=\"-235.4\" font-family=\"Times,serif\" font-size=\"12.00\">BatchNormBackward</text>\n",
       "</g>\n",
       "<!-- 140119693200016&#45;&gt;140119693153224 -->\n",
       "<g id=\"edge4\" class=\"edge\"><title>140119693200016&#45;&gt;140119693153224</title>\n",
       "<path fill=\"none\" stroke=\"black\" d=\"M60.5,-227.92C60.5,-220.908 60.5,-211.144 60.5,-202.465\"/>\n",
       "<polygon fill=\"black\" stroke=\"black\" points=\"64.0001,-202.341 60.5,-192.341 57.0001,-202.341 64.0001,-202.341\"/>\n",
       "</g>\n",
       "<!-- 140119693044992 -->\n",
       "<g id=\"node6\" class=\"node\"><title>140119693044992</title>\n",
       "<polygon fill=\"lightblue\" stroke=\"black\" points=\"160.5,-135 106.5,-135 106.5,-114 160.5,-114 160.5,-135\"/>\n",
       "<text text-anchor=\"middle\" x=\"133.5\" y=\"-121.4\" font-family=\"Times,serif\" font-size=\"12.00\">(1, 252)</text>\n",
       "</g>\n",
       "<!-- 140119693044992&#45;&gt;140119693153448 -->\n",
       "<g id=\"edge5\" class=\"edge\"><title>140119693044992&#45;&gt;140119693153448</title>\n",
       "<path fill=\"none\" stroke=\"black\" d=\"M133.5,-113.92C133.5,-106.908 133.5,-97.1442 133.5,-88.4652\"/>\n",
       "<polygon fill=\"black\" stroke=\"black\" points=\"137,-88.3408 133.5,-78.3408 130,-88.3409 137,-88.3408\"/>\n",
       "</g>\n",
       "<!-- 140119693044112 -->\n",
       "<g id=\"node7\" class=\"node\"><title>140119693044112</title>\n",
       "<polygon fill=\"lightblue\" stroke=\"black\" points=\"232.5,-135 178.5,-135 178.5,-114 232.5,-114 232.5,-135\"/>\n",
       "<text text-anchor=\"middle\" x=\"205.5\" y=\"-121.4\" font-family=\"Times,serif\" font-size=\"12.00\">(1)</text>\n",
       "</g>\n",
       "<!-- 140119693044112&#45;&gt;140119693153448 -->\n",
       "<g id=\"edge6\" class=\"edge\"><title>140119693044112&#45;&gt;140119693153448</title>\n",
       "<path fill=\"none\" stroke=\"black\" d=\"M192.959,-113.92C182.352,-105.818 166.934,-94.0399 154.456,-84.5082\"/>\n",
       "<polygon fill=\"black\" stroke=\"black\" points=\"156.454,-81.6299 146.383,-78.3408 152.205,-87.1926 156.454,-81.6299\"/>\n",
       "</g>\n",
       "</g>\n",
       "</svg>\n"
      ],
      "text/plain": [
       "<graphviz.dot.Digraph at 0x7f7028891f28>"
      ]
     },
     "execution_count": 7,
     "metadata": {},
     "output_type": "execute_result"
    }
   ],
   "source": [
    "real_image = train[0][0].cuda()\n",
    "real_image = Variable(real_image)\n",
    "make_dot(D(real_image))"
   ]
  },
  {
   "cell_type": "code",
   "execution_count": 8,
   "metadata": {
    "collapsed": false,
    "deletable": true,
    "editable": true
   },
   "outputs": [
    {
     "data": {
      "image/svg+xml": [
       "<?xml version=\"1.0\" encoding=\"UTF-8\" standalone=\"no\"?>\n",
       "<!DOCTYPE svg PUBLIC \"-//W3C//DTD SVG 1.1//EN\"\n",
       " \"http://www.w3.org/Graphics/SVG/1.1/DTD/svg11.dtd\">\n",
       "<!-- Generated by graphviz version 2.38.0 (20140413.2041)\n",
       " -->\n",
       "<!-- Title: %3 Pages: 1 -->\n",
       "<svg width=\"253pt\" height=\"314pt\"\n",
       " viewBox=\"0.00 0.00 252.50 314.00\" xmlns=\"http://www.w3.org/2000/svg\" xmlns:xlink=\"http://www.w3.org/1999/xlink\">\n",
       "<g id=\"graph0\" class=\"graph\" transform=\"scale(1 1) rotate(0) translate(4 310)\">\n",
       "<title>%3</title>\n",
       "<polygon fill=\"white\" stroke=\"none\" points=\"-4,4 -4,-310 248.5,-310 248.5,4 -4,4\"/>\n",
       "<!-- 140119692949096 -->\n",
       "<g id=\"node1\" class=\"node\"><title>140119692949096</title>\n",
       "<polygon fill=\"lightgrey\" stroke=\"black\" points=\"166.5,-21 112.5,-21 112.5,-0 166.5,-0 166.5,-21\"/>\n",
       "<text text-anchor=\"middle\" x=\"139.5\" y=\"-7.4\" font-family=\"Times,serif\" font-size=\"12.00\">View</text>\n",
       "</g>\n",
       "<!-- 140119692948872 -->\n",
       "<g id=\"node2\" class=\"node\"><title>140119692948872</title>\n",
       "<polygon fill=\"lightgrey\" stroke=\"black\" points=\"167.5,-78 111.5,-78 111.5,-57 167.5,-57 167.5,-78\"/>\n",
       "<text text-anchor=\"middle\" x=\"139.5\" y=\"-64.4\" font-family=\"Times,serif\" font-size=\"12.00\">Sigmoid</text>\n",
       "</g>\n",
       "<!-- 140119692948872&#45;&gt;140119692949096 -->\n",
       "<g id=\"edge1\" class=\"edge\"><title>140119692948872&#45;&gt;140119692949096</title>\n",
       "<path fill=\"none\" stroke=\"black\" d=\"M139.5,-56.9197C139.5,-49.9083 139.5,-40.1442 139.5,-31.4652\"/>\n",
       "<polygon fill=\"black\" stroke=\"black\" points=\"143,-31.3408 139.5,-21.3408 136,-31.3409 143,-31.3408\"/>\n",
       "</g>\n",
       "<!-- 140119692948648 -->\n",
       "<g id=\"node3\" class=\"node\"><title>140119692948648</title>\n",
       "<polygon fill=\"lightgrey\" stroke=\"black\" points=\"166.5,-135 112.5,-135 112.5,-114 166.5,-114 166.5,-135\"/>\n",
       "<text text-anchor=\"middle\" x=\"139.5\" y=\"-121.4\" font-family=\"Times,serif\" font-size=\"12.00\">Linear</text>\n",
       "</g>\n",
       "<!-- 140119692948648&#45;&gt;140119692948872 -->\n",
       "<g id=\"edge2\" class=\"edge\"><title>140119692948648&#45;&gt;140119692948872</title>\n",
       "<path fill=\"none\" stroke=\"black\" d=\"M139.5,-113.92C139.5,-106.908 139.5,-97.1442 139.5,-88.4652\"/>\n",
       "<polygon fill=\"black\" stroke=\"black\" points=\"143,-88.3408 139.5,-78.3408 136,-88.3409 143,-88.3408\"/>\n",
       "</g>\n",
       "<!-- 140119692948424 -->\n",
       "<g id=\"node4\" class=\"node\"><title>140119692948424</title>\n",
       "<polygon fill=\"lightgrey\" stroke=\"black\" points=\"88.5,-192 32.5,-192 32.5,-171 88.5,-171 88.5,-192\"/>\n",
       "<text text-anchor=\"middle\" x=\"60.5\" y=\"-178.4\" font-family=\"Times,serif\" font-size=\"12.00\">Dropout</text>\n",
       "</g>\n",
       "<!-- 140119692948424&#45;&gt;140119692948648 -->\n",
       "<g id=\"edge3\" class=\"edge\"><title>140119692948424&#45;&gt;140119692948648</title>\n",
       "<path fill=\"none\" stroke=\"black\" d=\"M74.2607,-170.92C86.0827,-162.689 103.353,-150.666 117.155,-141.057\"/>\n",
       "<polygon fill=\"black\" stroke=\"black\" points=\"119.425,-143.741 125.632,-135.155 115.425,-137.996 119.425,-143.741\"/>\n",
       "</g>\n",
       "<!-- 140119692948200 -->\n",
       "<g id=\"node5\" class=\"node\"><title>140119692948200</title>\n",
       "<polygon fill=\"lightgrey\" stroke=\"black\" points=\"93,-249 28,-249 28,-228 93,-228 93,-249\"/>\n",
       "<text text-anchor=\"middle\" x=\"60.5\" y=\"-235.4\" font-family=\"Times,serif\" font-size=\"12.00\">Threshold</text>\n",
       "</g>\n",
       "<!-- 140119692948200&#45;&gt;140119692948424 -->\n",
       "<g id=\"edge4\" class=\"edge\"><title>140119692948200&#45;&gt;140119692948424</title>\n",
       "<path fill=\"none\" stroke=\"black\" d=\"M60.5,-227.92C60.5,-220.908 60.5,-211.144 60.5,-202.465\"/>\n",
       "<polygon fill=\"black\" stroke=\"black\" points=\"64.0001,-202.341 60.5,-192.341 57.0001,-202.341 64.0001,-202.341\"/>\n",
       "</g>\n",
       "<!-- 140119693199904 -->\n",
       "<g id=\"node6\" class=\"node\"><title>140119693199904</title>\n",
       "<polygon fill=\"lightgrey\" stroke=\"black\" points=\"121,-306 7.10543e-15,-306 7.10543e-15,-285 121,-285 121,-306\"/>\n",
       "<text text-anchor=\"middle\" x=\"60.5\" y=\"-292.4\" font-family=\"Times,serif\" font-size=\"12.00\">BatchNormBackward</text>\n",
       "</g>\n",
       "<!-- 140119693199904&#45;&gt;140119692948200 -->\n",
       "<g id=\"edge5\" class=\"edge\"><title>140119693199904&#45;&gt;140119692948200</title>\n",
       "<path fill=\"none\" stroke=\"black\" d=\"M60.5,-284.92C60.5,-277.908 60.5,-268.144 60.5,-259.465\"/>\n",
       "<polygon fill=\"black\" stroke=\"black\" points=\"64.0001,-259.341 60.5,-249.341 57.0001,-259.341 64.0001,-259.341\"/>\n",
       "</g>\n",
       "<!-- 140119693276088 -->\n",
       "<g id=\"node7\" class=\"node\"><title>140119693276088</title>\n",
       "<polygon fill=\"lightblue\" stroke=\"black\" points=\"172.5,-192 106.5,-192 106.5,-171 172.5,-171 172.5,-192\"/>\n",
       "<text text-anchor=\"middle\" x=\"139.5\" y=\"-178.4\" font-family=\"Times,serif\" font-size=\"12.00\">(784, 529)</text>\n",
       "</g>\n",
       "<!-- 140119693276088&#45;&gt;140119692948648 -->\n",
       "<g id=\"edge6\" class=\"edge\"><title>140119693276088&#45;&gt;140119692948648</title>\n",
       "<path fill=\"none\" stroke=\"black\" d=\"M139.5,-170.92C139.5,-163.908 139.5,-154.144 139.5,-145.465\"/>\n",
       "<polygon fill=\"black\" stroke=\"black\" points=\"143,-145.341 139.5,-135.341 136,-145.341 143,-145.341\"/>\n",
       "</g>\n",
       "<!-- 140119693276176 -->\n",
       "<g id=\"node8\" class=\"node\"><title>140119693276176</title>\n",
       "<polygon fill=\"lightblue\" stroke=\"black\" points=\"244.5,-192 190.5,-192 190.5,-171 244.5,-171 244.5,-192\"/>\n",
       "<text text-anchor=\"middle\" x=\"217.5\" y=\"-178.4\" font-family=\"Times,serif\" font-size=\"12.00\">(784)</text>\n",
       "</g>\n",
       "<!-- 140119693276176&#45;&gt;140119692948648 -->\n",
       "<g id=\"edge7\" class=\"edge\"><title>140119693276176&#45;&gt;140119692948648</title>\n",
       "<path fill=\"none\" stroke=\"black\" d=\"M203.913,-170.92C192.241,-162.689 175.19,-150.666 161.562,-141.057\"/>\n",
       "<polygon fill=\"black\" stroke=\"black\" points=\"163.382,-138.057 153.193,-135.155 159.348,-143.778 163.382,-138.057\"/>\n",
       "</g>\n",
       "</g>\n",
       "</svg>\n"
      ],
      "text/plain": [
       "<graphviz.dot.Digraph at 0x7f70288a0278>"
      ]
     },
     "execution_count": 8,
     "metadata": {},
     "output_type": "execute_result"
    }
   ],
   "source": [
    "fake_distributions = Variable(torch.randn((BATCH_SIZE, 100)).cuda())\n",
    "images = G(fake_distributions).view((-1, 28, 28))\n",
    "make_dot(images)"
   ]
  },
  {
   "cell_type": "markdown",
   "metadata": {
    "deletable": true,
    "editable": true
   },
   "source": [
    "## Train\n",
    "\n",
    "* $ 1 $ : real images\n",
    "* $ 0 $ : fake images"
   ]
  },
  {
   "cell_type": "code",
   "execution_count": 9,
   "metadata": {
    "collapsed": false,
    "deletable": true,
    "editable": true
   },
   "outputs": [],
   "source": [
    "N_EPOCH = 100\n",
    "\n",
    "real_y = Variable(torch.ones((BATCH_SIZE, 1)).cuda())\n",
    "fake_y = Variable(torch.zeros((BATCH_SIZE, 1)).cuda())\n",
    "loss_f = nn.BCELoss()\n",
    "\n",
    "d_losses = list()\n",
    "g_losses = list()"
   ]
  },
  {
   "cell_type": "code",
   "execution_count": 10,
   "metadata": {
    "collapsed": false,
    "deletable": true,
    "editable": true,
    "scrolled": false
   },
   "outputs": [
    {
     "name": "stdout",
     "output_type": "stream",
     "text": [
      "Epoch:[0] Step:[1800] - [D_loss]: 0.1053 [G_loss]:4.056\n",
      "Epoch:[1] Step:[1800] - [D_loss]: 0.08497 [G_loss]:5.032\n",
      "Epoch:[2] Step:[1800] - [D_loss]: 0.1151 [G_loss]:4.9419\n",
      "Epoch:[3] Step:[1800] - [D_loss]: 0.12 [G_loss]:5.16387\n",
      "Epoch:[4] Step:[1800] - [D_loss]: 0.1514 [G_loss]:5.097\n",
      "Epoch:[5] Step:[1800] - [D_loss]: 0.1436 [G_loss]:4.973\n",
      "Epoch:[6] Step:[1800] - [D_loss]: 0.1143 [G_loss]:5.618\n",
      "Epoch:[7] Step:[1800] - [D_loss]: 0.1641 [G_loss]:4.881\n",
      "Epoch:[8] Step:[1800] - [D_loss]: 0.1549 [G_loss]:4.768\n",
      "Epoch:[9] Step:[1800] - [D_loss]: 0.1619 [G_loss]:4.725\n",
      "Epoch:[10] Step:[1800] - [D_loss]: 0.1201 [G_loss]:5.102\n",
      "Epoch:[11] Step:[1800] - [D_loss]: 0.1976 [G_loss]:4.869\n",
      "Epoch:[12] Step:[1800] - [D_loss]: 0.2018 [G_loss]:4.307\n",
      "Epoch:[13] Step:[1800] - [D_loss]: 0.2384 [G_loss]:3.653\n",
      "Epoch:[14] Step:[1800] - [D_loss]: 0.2495 [G_loss]:3.703\n",
      "Epoch:[15] Step:[1800] - [D_loss]: 0.251 [G_loss]:3.2672\n",
      "Epoch:[16] Step:[1800] - [D_loss]: 0.247 [G_loss]:3.4197\n",
      "Epoch:[17] Step:[1800] - [D_loss]: 0.2431 [G_loss]:3.289\n",
      "Epoch:[18] Step:[1800] - [D_loss]: 0.2502 [G_loss]:3.572\n",
      "Epoch:[19] Step:[1800] - [D_loss]: 0.2844 [G_loss]:3.416\n",
      "Epoch:[20] Step:[1800] - [D_loss]: 0.2748 [G_loss]:3.161\n",
      "Epoch:[21] Step:[1800] - [D_loss]: 0.2622 [G_loss]:3.443\n",
      "Epoch:[22] Step:[1800] - [D_loss]: 0.2677 [G_loss]:3.127\n",
      "Epoch:[23] Step:[1800] - [D_loss]: 0.2406 [G_loss]:3.488\n",
      "Epoch:[24] Step:[1800] - [D_loss]: 0.2995 [G_loss]:3.269\n",
      "Epoch:[25] Step:[1800] - [D_loss]: 0.3213 [G_loss]:2.883\n",
      "Epoch:[26] Step:[1800] - [D_loss]: 0.3268 [G_loss]:2.942\n",
      "Epoch:[27] Step:[1800] - [D_loss]: 0.3093 [G_loss]:2.587\n",
      "Epoch:[28] Step:[1800] - [D_loss]: 0.2916 [G_loss]:2.916\n",
      "Epoch:[29] Step:[1800] - [D_loss]: 0.3085 [G_loss]:2.735\n",
      "Epoch:[30] Step:[1800] - [D_loss]: 0.3316 [G_loss]:2.746\n",
      "Epoch:[31] Step:[1800] - [D_loss]: 0.3112 [G_loss]:2.879\n",
      "Epoch:[32] Step:[1800] - [D_loss]: 0.3262 [G_loss]:2.809\n",
      "Epoch:[33] Step:[1800] - [D_loss]: 0.3165 [G_loss]:2.498\n",
      "Epoch:[34] Step:[1800] - [D_loss]: 0.3523 [G_loss]:2.893\n",
      "Epoch:[35] Step:[1800] - [D_loss]: 0.3357 [G_loss]:2.886\n",
      "Epoch:[36] Step:[1800] - [D_loss]: 0.3314 [G_loss]:2.563\n",
      "Epoch:[37] Step:[1800] - [D_loss]: 0.3127 [G_loss]:2.742\n",
      "Epoch:[38] Step:[1800] - [D_loss]: 0.2731 [G_loss]:2.923\n",
      "Epoch:[39] Step:[1800] - [D_loss]: 0.3286 [G_loss]:2.652\n",
      "Epoch:[40] Step:[1800] - [D_loss]: 0.3535 [G_loss]:2.834\n",
      "Epoch:[41] Step:[1800] - [D_loss]: 0.4004 [G_loss]:2.463\n",
      "Epoch:[42] Step:[1800] - [D_loss]: 0.4009 [G_loss]:2.214\n",
      "Epoch:[43] Step:[1800] - [D_loss]: 0.4191 [G_loss]:2.011\n",
      "Epoch:[44] Step:[1800] - [D_loss]: 0.3885 [G_loss]:2.289\n",
      "Epoch:[45] Step:[1800] - [D_loss]: 0.3919 [G_loss]:2.235\n",
      "Epoch:[46] Step:[1800] - [D_loss]: 0.3783 [G_loss]:2.294\n",
      "Epoch:[47] Step:[1800] - [D_loss]: 0.4232 [G_loss]:2.145\n",
      "Epoch:[48] Step:[1800] - [D_loss]: 0.3594 [G_loss]:2.286\n",
      "Epoch:[49] Step:[1800] - [D_loss]: 0.3576 [G_loss]:2.308\n",
      "Epoch:[50] Step:[1800] - [D_loss]: 0.4249 [G_loss]:2.039\n",
      "Epoch:[51] Step:[1800] - [D_loss]: 0.3595 [G_loss]:2.199\n",
      "Epoch:[52] Step:[1800] - [D_loss]: 0.3751 [G_loss]:2.195\n",
      "Epoch:[53] Step:[1800] - [D_loss]: 0.3457 [G_loss]:2.154\n",
      "Epoch:[54] Step:[1800] - [D_loss]: 0.3767 [G_loss]:2.125\n",
      "Epoch:[55] Step:[1800] - [D_loss]: 0.3842 [G_loss]:2.137\n",
      "Epoch:[56] Step:[1800] - [D_loss]: 0.3812 [G_loss]:2.127\n",
      "Epoch:[57] Step:[1800] - [D_loss]: 0.3941 [G_loss]:2.112\n",
      "Epoch:[58] Step:[1800] - [D_loss]: 0.3616 [G_loss]:2.151\n",
      "Epoch:[59] Step:[1800] - [D_loss]: 0.3852 [G_loss]:2.088\n",
      "Epoch:[60] Step:[1800] - [D_loss]: 0.3544 [G_loss]:2.093\n",
      "Epoch:[61] Step:[1800] - [D_loss]: 0.3906 [G_loss]:1.985\n",
      "Epoch:[62] Step:[1800] - [D_loss]: 0.375 [G_loss]:2.1479\n",
      "Epoch:[63] Step:[1800] - [D_loss]: 0.3691 [G_loss]:2.097\n",
      "Epoch:[64] Step:[1800] - [D_loss]: 0.3579 [G_loss]:2.217\n",
      "Epoch:[65] Step:[1800] - [D_loss]: 0.386 [G_loss]:2.1062\n",
      "Epoch:[66] Step:[1800] - [D_loss]: 0.3403 [G_loss]:2.359\n",
      "Epoch:[67] Step:[1800] - [D_loss]: 0.3831 [G_loss]:2.004\n",
      "Epoch:[68] Step:[1800] - [D_loss]: 0.3762 [G_loss]:2.314\n",
      "Epoch:[69] Step:[1800] - [D_loss]: 0.3886 [G_loss]:2.349\n",
      "Epoch:[70] Step:[1800] - [D_loss]: 0.3964 [G_loss]:2.211\n",
      "Epoch:[71] Step:[1800] - [D_loss]: 0.387 [G_loss]:2.2325\n",
      "Epoch:[72] Step:[1800] - [D_loss]: 0.3696 [G_loss]:2.422\n",
      "Epoch:[73] Step:[1800] - [D_loss]: 0.3724 [G_loss]:2.356\n",
      "Epoch:[74] Step:[1800] - [D_loss]: 0.379 [G_loss]:2.1596\n",
      "Epoch:[75] Step:[1800] - [D_loss]: 0.3734 [G_loss]:2.273\n",
      "Epoch:[76] Step:[1800] - [D_loss]: 0.3962 [G_loss]:2.303\n",
      "Epoch:[77] Step:[1800] - [D_loss]: 0.38 [G_loss]:2.4.292\n",
      "Epoch:[78] Step:[1800] - [D_loss]: 0.347 [G_loss]:2.3713\n",
      "Epoch:[79] Step:[1800] - [D_loss]: 0.3734 [G_loss]:2.164\n",
      "Epoch:[80] Step:[1800] - [D_loss]: 0.3797 [G_loss]:2.142\n",
      "Epoch:[81] Step:[1800] - [D_loss]: 0.3574 [G_loss]:2.137\n",
      "Epoch:[82] Step:[1800] - [D_loss]: 0.3341 [G_loss]:2.315\n",
      "Epoch:[83] Step:[1800] - [D_loss]: 0.3615 [G_loss]:2.636\n",
      "Epoch:[84] Step:[1800] - [D_loss]: 0.3479 [G_loss]:2.456\n",
      "Epoch:[85] Step:[1800] - [D_loss]: 0.3689 [G_loss]:2.392\n",
      "Epoch:[86] Step:[1800] - [D_loss]: 0.3182 [G_loss]:2.336\n",
      "Epoch:[87] Step:[1800] - [D_loss]: 0.3485 [G_loss]:2.432\n",
      "Epoch:[88] Step:[1800] - [D_loss]: 0.3243 [G_loss]:2.414\n",
      "Epoch:[89] Step:[1800] - [D_loss]: 0.297 [G_loss]:2.2538\n",
      "Epoch:[90] Step:[1800] - [D_loss]: 0.3844 [G_loss]:2.317\n",
      "Epoch:[91] Step:[1800] - [D_loss]: 0.3838 [G_loss]:2.328\n",
      "Epoch:[92] Step:[1800] - [D_loss]: 0.3347 [G_loss]:2.202\n",
      "Epoch:[93] Step:[1800] - [D_loss]: 0.3768 [G_loss]:2.385\n",
      "Epoch:[94] Step:[1800] - [D_loss]: 0.3808 [G_loss]:2.126\n",
      "Epoch:[95] Step:[1800] - [D_loss]: 0.3595 [G_loss]:2.271\n",
      "Epoch:[96] Step:[1800] - [D_loss]: 0.3628 [G_loss]:2.291\n",
      "Epoch:[97] Step:[1800] - [D_loss]: 0.3644 [G_loss]:2.416\n",
      "Epoch:[98] Step:[1800] - [D_loss]: 0.3444 [G_loss]:2.373\n",
      "Epoch:[99] Step:[1800] - [D_loss]: 0.4143 [G_loss]:2.333\n"
     ]
    }
   ],
   "source": [
    "# Train Discriminator with Generator not being trained\n",
    "# 먼저 Discriminator를 학습시킵니다.\n",
    "# 이때 real image와 fake이미지 두개의 데이터를 사용하여 학습합니다. \n",
    "# Discriminator를 학습시킬때는 Generator는 학습시키면 안됩니다.\n",
    "\n",
    "for epoch in range(N_EPOCH):\n",
    "#     _d_real_losses = list()\n",
    "    _d_losses = list()\n",
    "    _g_losses = list()\n",
    "    \n",
    "    \n",
    "    for step, (real_images, _) in enumerate(train_loader):\n",
    "        real_images = Variable(real_images.cuda())\n",
    "\n",
    "        # Init D\n",
    "        d_optimizer.zero_grad()\n",
    "\n",
    "        ###############################################\n",
    "        # Train D with real images\n",
    "        ###############################################\n",
    "        y_real_pred = D(real_images)\n",
    "        d_real_loss = loss_f(y_real_pred, real_y)\n",
    "\n",
    "        ###############################################\n",
    "        # Train D with fake images but do not train G\n",
    "        ###############################################\n",
    "        fake_distributions = Variable(torch.randn((BATCH_SIZE, 100)).cuda())\n",
    "        fake_images = G(fake_distributions).detach()\n",
    "        y_pred = D(fake_images)\n",
    "        d_fake_loss = loss_f(y_pred, fake_y)\n",
    "        \n",
    "        ###############################################\n",
    "        # Update Discriminator\n",
    "        ###############################################\n",
    "        d_loss = 0.5*d_real_loss + 0.5*d_fake_loss\n",
    "        d_loss.backward()\n",
    "        d_optimizer.step()\n",
    "\n",
    "        # Visualization\n",
    "        _d_losses.append(d_loss.data[0])\n",
    "\n",
    "        ###############################################\n",
    "        # Train G with fake images but do not train G\n",
    "        ###############################################\n",
    "        g_optimizer.zero_grad()\n",
    "        \n",
    "        fake_distributions = Variable(torch.randn((BATCH_SIZE, 100)).cuda())\n",
    "        fake_images = G(fake_distributions)\n",
    "        y_pred = D(fake_images)\n",
    "        g_loss = loss_f(y_pred, real_y)\n",
    "        g_loss.backward()\n",
    "        g_optimizer.step()\n",
    "        \n",
    "        # Visualization\n",
    "        _g_losses.append(g_loss.data.cpu().numpy()[0])\n",
    "        \n",
    "        if step % 200 == 0:\n",
    "            _d_losses = np.array(_d_losses)\n",
    "            _g_losses = np.array(_g_losses)\n",
    "            \n",
    "            d_losses.append(_d_losses.mean())\n",
    "            g_losses.append(_g_losses.mean())\n",
    "            \n",
    "            print(f'\\rEpoch:[{epoch}] Step:[{step}] -',\n",
    "                  '[D_loss]: {:.4}'.format(_d_losses.mean()),\n",
    "                  '[G_loss]:{:.4}'.format(_g_losses.mean()), end='') \n",
    "            \n",
    "            _d_losses = list()\n",
    "            _g_losses = list()\n",
    "            \n",
    "    print()"
   ]
  },
  {
   "cell_type": "markdown",
   "metadata": {
    "deletable": true,
    "editable": true
   },
   "source": [
    "## Loss Visualization"
   ]
  },
  {
   "cell_type": "code",
   "execution_count": 12,
   "metadata": {
    "collapsed": false,
    "deletable": true,
    "editable": true
   },
   "outputs": [
    {
     "data": {
      "image/png": "[encoded data removed]",
      "text/plain": [
       "<matplotlib.figure.Figure at 0x7f7028854978>"
      ]
     },
     "metadata": {},
     "output_type": "display_data"
    }
   ],
   "source": [
    "plot(d_losses, label='D Loss')\n",
    "plot(g_losses, label='G loss')\n",
    "\n",
    "grid()\n",
    "legend()\n",
    "figsize(16, 6)"
   ]
  },
  {
   "cell_type": "code",
   "execution_count": 14,
   "metadata": {
    "collapsed": false,
    "deletable": true,
    "editable": true
   },
   "outputs": [
    {
     "data": {
      "image/png": "[encoded data removed]",
      "text/plain": [
       "<matplotlib.figure.Figure at 0x7f70288f3f60>"
      ]
     },
     "metadata": {},
     "output_type": "display_data"
    },
    {
     "data": {
      "image/png": "[encoded data removed]",
      "text/plain": [
       "<matplotlib.figure.Figure at 0x7f70288f9080>"
      ]
     },
     "metadata": {},
     "output_type": "display_data"
    }
   ],
   "source": [
    "fake_distributions = Variable(torch.randn((BATCH_SIZE, 100)).cuda())\n",
    "images = G(fake_distributions).view((-1, 28, 28)).data.cpu().numpy()\n",
    "\n",
    "images[0]\n",
    "imshow(images[0], cmap=cm.gray_r)\n",
    "\n",
    "fig, subplots = pylab.subplots(4, 7) # subplots(y축, x축 갯수)\n",
    "\n",
    "idx = 0\n",
    "for _subs in subplots:\n",
    "    for subplot in _subs:\n",
    "        d = images[idx]\n",
    "        subplot.get_xaxis().set_visible(False)\n",
    "        subplot.get_yaxis().set_visible(False)\n",
    "        subplot.imshow(d, cmap=cm.gray_r)\n",
    "        idx += 1\n"
   ]
  }
 ],
 "metadata": {
  "kernelspec": {
   "display_name": "Python 3",
   "language": "python",
   "name": "python3"
  },
  "language_info": {
   "codemirror_mode": {
    "name": "ipython",
    "version": 3
   },
   "file_extension": ".py",
   "mimetype": "text/x-python",
   "name": "python",
   "nbconvert_exporter": "python",
   "pygments_lexer": "ipython3",
   "version": "3.6.0"
  }
 },
 "nbformat": 4,
 "nbformat_minor": 2
}
