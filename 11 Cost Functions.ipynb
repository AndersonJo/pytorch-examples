{
 "cells": [
  {
   "cell_type": "code",
   "execution_count": 21,
   "metadata": {
    "collapsed": true,
    "deletable": true,
    "editable": true
   },
   "outputs": [],
   "source": [
    "import numpy as np\n",
    "import torch\n",
    "import torch.nn.functional as F\n",
    "from torch.autograd import Variable"
   ]
  },
  {
   "cell_type": "markdown",
   "metadata": {
    "deletable": true,
    "editable": true
   },
   "source": [
    "### CrossEntropy"
   ]
  },
  {
   "cell_type": "code",
   "execution_count": 90,
   "metadata": {
    "collapsed": true,
    "deletable": true,
    "editable": true
   },
   "outputs": [],
   "source": [
    "def sigmoid(x):\n",
    "    return 1./(1+np.e**(-x))\n",
    "\n",
    "def sigmoid_crossentropy(y_pred, y_true):\n",
    "    y_pred = sigmoid(y_pred)\n",
    "    return -np.sum(y_true * np.log(y_pred))\n",
    "\n",
    "def torch_sigmoid_crossentropy(y_pred, y_true):\n",
    "    y_pred = sigmoid(y_pred)\n",
    "    return -y_true * np.log(np.sum(np.exp(y_pred)))"
   ]
  },
  {
   "cell_type": "code",
   "execution_count": 92,
   "metadata": {
    "collapsed": false,
    "deletable": true,
    "editable": true
   },
   "outputs": [
    {
     "name": "stdout",
     "output_type": "stream",
     "text": [
      "Numpy            Sigmoid: [[ 0.18242552  0.62245933  0.5         0.73105858  0.73105858]]\n",
      "Numpy       CrossEntorpy: 0.313261687518\n",
      "Numpy Torch CrossEntorpy: [[ 0.          0.          0.         -2.18232617  0.        ]]\n",
      "Numpy Torch CrossEntorpy: [[-6.54697852]]\n",
      "\n",
      "Torch Sigmoid: [[ 0.18242552  0.62245933  0.5         0.73105858  0.73105858]]\n"
     ]
    }
   ],
   "source": [
    "y_pred = np.array([[-1.5, 0.5, 0, 1, 1]])\n",
    "y_true = np.array([[0, 0, 0, 1, 0]], dtype='int64')\n",
    "y_torch = np.array([[3]], dtype='int64')\n",
    "\n",
    "print('Numpy            Sigmoid:', sigmoid(y_pred))\n",
    "print('Numpy       CrossEntorpy:', sigmoid_crossentropy(y_pred, y_true))\n",
    "print('Numpy Torch CrossEntorpy:', torch_sigmoid_crossentropy(y_pred, y_true))\n",
    "print('Numpy Torch CrossEntorpy:', torch_sigmoid_crossentropy(y_pred, y_torch), end='\\n\\n')\n",
    "\n",
    "y_pred = Variable(torch.DoubleTensor(y_pred))\n",
    "y_true = Variable(torch.LongTensor([3]))\n",
    "print('Torch Sigmoid:', F.sigmoid(y_pred).data.numpy())\n",
    "out = F.cross_entropy(F.sigmoid(y_pred), y_true)"
   ]
  },
  {
   "cell_type": "code",
   "execution_count": 94,
   "metadata": {
    "collapsed": false
   },
   "outputs": [
    {
     "ename": "AttributeError",
     "evalue": "'NLLLoss' object has no attribute 'creator'",
     "output_type": "error",
     "traceback": [
      "\u001b[0;31m---------------------------------------------------------------------------\u001b[0m",
      "\u001b[0;31mAttributeError\u001b[0m                            Traceback (most recent call last)",
      "\u001b[0;32m<ipython-input-94-efcbedb48496>\u001b[0m in \u001b[0;36m<module>\u001b[0;34m()\u001b[0m\n\u001b[0;32m----> 1\u001b[0;31m \u001b[0mout\u001b[0m\u001b[0;34m.\u001b[0m\u001b[0mcreator\u001b[0m\u001b[0;34m.\u001b[0m\u001b[0mcreator\u001b[0m\u001b[0;34m\u001b[0m\u001b[0m\n\u001b[0m",
      "\u001b[0;31mAttributeError\u001b[0m: 'NLLLoss' object has no attribute 'creator'"
     ]
    }
   ],
   "source": [
    "out.creator"
   ]
  }
 ],
 "metadata": {
  "kernelspec": {
   "display_name": "Python 3",
   "language": "python",
   "name": "python3"
  },
  "language_info": {
   "codemirror_mode": {
    "name": "ipython",
    "version": 3
   },
   "file_extension": ".py",
   "mimetype": "text/x-python",
   "name": "python",
   "nbconvert_exporter": "python",
   "pygments_lexer": "ipython3",
   "version": "3.6.0"
  }
 },
 "nbformat": 4,
 "nbformat_minor": 2
}
