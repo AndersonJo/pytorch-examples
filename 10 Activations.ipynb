{
 "cells": [
  {
   "cell_type": "code",
   "execution_count": 10,
   "metadata": {
    "collapsed": true
   },
   "outputs": [],
   "source": [
    "import numpy as np\n",
    "import torch\n",
    "import torch.nn.functional as F"
   ]
  },
  {
   "cell_type": "markdown",
   "metadata": {},
   "source": [
    "### Sigmoid"
   ]
  },
  {
   "cell_type": "code",
   "execution_count": 5,
   "metadata": {
    "collapsed": true
   },
   "outputs": [],
   "source": [
    "def sigmoid(x):\n",
    "    return 1./(1+np.e**(-x))"
   ]
  },
  {
   "cell_type": "code",
   "execution_count": 18,
   "metadata": {
    "collapsed": false
   },
   "outputs": [
    {
     "name": "stdout",
     "output_type": "stream",
     "text": [
      "Numpy Sigmoid: [ 0.18242552  0.62245933  0.5         0.73105858  0.95257413]\n",
      "Torch Sigmoid: [ 0.18242552  0.62245933  0.5         0.73105858  0.95257413]\n"
     ]
    }
   ],
   "source": [
    "a = np.array([-1.5, 0.5, 0, 1, 3])\n",
    "print('Numpy Sigmoid:', sigmoid(a))\n",
    "\n",
    "b = torch.DoubleTensor(a)\n",
    "b = F.sigmoid(b).numpy()\n",
    "print('Torch Sigmoid:', b)"
   ]
  }
 ],
 "metadata": {
  "kernelspec": {
   "display_name": "Python 3",
   "language": "python",
   "name": "python3"
  },
  "language_info": {
   "codemirror_mode": {
    "name": "ipython",
    "version": 3
   },
   "file_extension": ".py",
   "mimetype": "text/x-python",
   "name": "python",
   "nbconvert_exporter": "python",
   "pygments_lexer": "ipython3",
   "version": "3.6.0"
  }
 },
 "nbformat": 4,
 "nbformat_minor": 2
}
