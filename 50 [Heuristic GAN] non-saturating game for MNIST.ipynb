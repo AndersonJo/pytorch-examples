{
 "cells": [
  {
   "cell_type": "code",
   "execution_count": 1,
   "metadata": {
    "collapsed": false,
    "deletable": true,
    "editable": true
   },
   "outputs": [
    {
     "name": "stdout",
     "output_type": "stream",
     "text": [
      "Populating the interactive namespace from numpy and matplotlib\n"
     ]
    }
   ],
   "source": [
    "%pylab inline\n",
    "import numpy as np\n",
    "import torch\n",
    "\n",
    "from torch import nn\n",
    "from torch import optim\n",
    "from torch.nn import functional as F\n",
    "from torch.autograd import Variable\n",
    "from torch.utils.data import dataloader\n",
    "\n",
    "from torchvision import transforms\n",
    "from torchvision.datasets import MNIST\n",
    "\n",
    "from sklearn.metrics import accuracy_score\n",
    "\n",
    "from graphviz import Digraph"
   ]
  },
  {
   "cell_type": "markdown",
   "metadata": {
    "deletable": true,
    "editable": true
   },
   "source": [
    "## Configuration"
   ]
  },
  {
   "cell_type": "code",
   "execution_count": 2,
   "metadata": {
    "collapsed": true,
    "deletable": true,
    "editable": true
   },
   "outputs": [],
   "source": [
    "BATCH_SIZE = 32"
   ]
  },
  {
   "cell_type": "markdown",
   "metadata": {
    "deletable": true,
    "editable": true
   },
   "source": [
    "## Data (MNIST)"
   ]
  },
  {
   "cell_type": "code",
   "execution_count": 3,
   "metadata": {
    "collapsed": false,
    "deletable": true,
    "editable": true
   },
   "outputs": [],
   "source": [
    "train = MNIST('./data', train=True, download=True, transform=transforms.Compose([\n",
    "    transforms.ToTensor(), # ToTensor does min-max normalization. \n",
    "]), )\n",
    "\n",
    "test = MNIST('./data', train=False, download=True, transform=transforms.Compose([\n",
    "    transforms.ToTensor(), # ToTensor does min-max normalization. \n",
    "    \n",
    "]), )\n",
    "\n",
    "# Create DataLoader\n",
    "dataloader_args = dict(shuffle=True, batch_size=BATCH_SIZE ,num_workers=1, pin_memory=True)\n",
    "train_loader = dataloader.DataLoader(train, **dataloader_args)\n",
    "test_loader = dataloader.DataLoader(test, **dataloader_args)"
   ]
  },
  {
   "cell_type": "markdown",
   "metadata": {
    "deletable": true,
    "editable": true
   },
   "source": [
    "## Model Discriminator\n",
    "\n",
    "### Discriminator\n",
    "\n",
    "* $ x_i \\sim P_{\\rm data} $ (즉 true data distribution) 에서 왔다면 1\n",
    "* $ x_i = G(z) $ 이때 $ z \\sim p_{\\rm generator} $ (generators' distribution)에서 왔다면 0\n",
    "\n",
    "즉 Discriminator는 \"이 사진이 진짜냐? (가짜가 아니고)\" 라고 질문하는 것"
   ]
  },
  {
   "cell_type": "code",
   "execution_count": 4,
   "metadata": {
    "collapsed": false,
    "deletable": true,
    "editable": true
   },
   "outputs": [
    {
     "name": "stdout",
     "output_type": "stream",
     "text": [
      "Discriminator (\n",
      "  (fc1): Linear (784 -> 441)\n",
      "  (fc2): Linear (441 -> 256)\n",
      "  (fc3): Linear (256 -> 32)\n",
      "  (fc4): Linear (32 -> 1)\n",
      "  (bc1): BatchNorm1d(441, eps=1e-05, momentum=0.1, affine=True)\n",
      "  (bc2): BatchNorm1d(256, eps=1e-05, momentum=0.1, affine=True)\n",
      ")\n"
     ]
    }
   ],
   "source": [
    "class Discriminator(nn.Module):\n",
    "    def __init__(self):\n",
    "        super(Discriminator, self).__init__()\n",
    "        \n",
    "        self.fc1 = nn.Linear(784, 441)\n",
    "        self.fc2 = nn.Linear(441, 256)\n",
    "        self.fc3 = nn.Linear(256, 32)\n",
    "        self.fc4 = nn.Linear(32, 1)\n",
    "        \n",
    "        self.bc1 = nn.BatchNorm1d(441)\n",
    "        self.bc2 = nn.BatchNorm1d(256)\n",
    "                \n",
    "    def forward(self, x):\n",
    "        x = x.view((-1, 784))\n",
    "        h = self.fc1(x)\n",
    "#         h = self.bc1(h)\n",
    "        h = F.leaky_relu(h)\n",
    "        h = F.dropout(h, p=0.2, training=self.training)\n",
    "        \n",
    "        h = self.fc2(h)\n",
    "#         h = self.bc2(h)\n",
    "        h = F.leaky_relu(h)\n",
    "        h = F.dropout(h, p=0.2, training=self.training)\n",
    "        \n",
    "        h = self.fc3(h)\n",
    "        h = F.leaky_relu(h)\n",
    "        \n",
    "        h = self.fc4(h)\n",
    "        out = F.sigmoid(h)\n",
    "        return out\n",
    "\n",
    "D = Discriminator()\n",
    "print(D.cuda()) # CUDA!\n",
    "d_optimizer = optim.Adam(D.parameters(), lr=0.001)"
   ]
  },
  {
   "cell_type": "markdown",
   "metadata": {
    "deletable": true,
    "editable": true
   },
   "source": [
    "### Generator"
   ]
  },
  {
   "cell_type": "code",
   "execution_count": 5,
   "metadata": {
    "collapsed": false,
    "deletable": true,
    "editable": true,
    "scrolled": false
   },
   "outputs": [
    {
     "name": "stdout",
     "output_type": "stream",
     "text": [
      "Generator (\n",
      "  (fc1): Linear (100 -> 196)\n",
      "  (fc2): Linear (196 -> 289)\n",
      "  (fc3): Linear (289 -> 361)\n",
      "  (fc4): Linear (361 -> 400)\n",
      "  (fc5): Linear (400 -> 512)\n",
      "  (fc6): Linear (512 -> 625)\n",
      "  (fc7): Linear (625 -> 784)\n",
      "  (fc8): Linear (784 -> 784)\n",
      "  (bc1): BatchNorm1d(196, eps=1e-05, momentum=0.1, affine=True)\n",
      "  (bc2): BatchNorm1d(289, eps=1e-05, momentum=0.1, affine=True)\n",
      "  (bc3): BatchNorm1d(361, eps=1e-05, momentum=0.1, affine=True)\n",
      "  (bc4): BatchNorm1d(400, eps=1e-05, momentum=0.1, affine=True)\n",
      "  (bc5): BatchNorm1d(512, eps=1e-05, momentum=0.1, affine=True)\n",
      "  (bc6): BatchNorm1d(625, eps=1e-05, momentum=0.1, affine=True)\n",
      "  (bc7): BatchNorm1d(784, eps=1e-05, momentum=0.1, affine=True)\n",
      ")\n"
     ]
    }
   ],
   "source": [
    "class Generator(nn.Module):\n",
    "    def __init__(self):\n",
    "        super(Generator, self).__init__()\n",
    "        \n",
    "        self.fc1 = nn.Linear(100, 196)\n",
    "        self.fc2 = nn.Linear(196, 289)\n",
    "        self.fc3 = nn.Linear(289, 361)\n",
    "        self.fc4 = nn.Linear(361, 400)\n",
    "        self.fc5 = nn.Linear(400, 512)\n",
    "        self.fc6 = nn.Linear(512, 625)\n",
    "        self.fc7 = nn.Linear(625, 784)\n",
    "        self.fc8 = nn.Linear(784, 784)\n",
    "        \n",
    "        self.bc1 = nn.BatchNorm1d(196)\n",
    "        self.bc2 = nn.BatchNorm1d(289)\n",
    "        self.bc3 = nn.BatchNorm1d(361)\n",
    "        self.bc4 = nn.BatchNorm1d(400)\n",
    "        self.bc5 = nn.BatchNorm1d(512)\n",
    "        self.bc6 = nn.BatchNorm1d(625)\n",
    "        self.bc7 = nn.BatchNorm1d(784)\n",
    "    \n",
    "    def forward(self, x):\n",
    "        h = self.fc1(x)\n",
    "        h = self.bc1(h)\n",
    "        h = F.leaky_relu(h)\n",
    "        h = F.dropout(h, p=0.5, training=self.training)\n",
    "        \n",
    "        h = self.fc2(h)\n",
    "        h = self.bc2(h)\n",
    "        h = F.leaky_relu(h)\n",
    "        h = F.dropout(h, p=0.5, training=self.training)\n",
    "        \n",
    "        h = self.fc3(h)\n",
    "        h = self.bc3(h)\n",
    "        h = F.leaky_relu(h)\n",
    "        h = F.dropout(h, p=0.5, training=self.training)\n",
    "        \n",
    "        h = self.fc4(h)\n",
    "        h = self.bc4(h)\n",
    "        h = F.leaky_relu(h)\n",
    "        h = F.dropout(h, p=0.4, training=self.training)\n",
    "        \n",
    "        h = self.fc5(h)\n",
    "        h = self.bc5(h)\n",
    "        h = F.leaky_relu(h)\n",
    "        h = F.dropout(h, p=0.4, training=self.training)\n",
    "        \n",
    "        h = self.fc6(h)\n",
    "        h = self.bc6(h)\n",
    "        h = F.leaky_relu(h)\n",
    "        h = F.dropout(h, p=0.4, training=self.training)\n",
    "        \n",
    "        h = self.fc7(h)\n",
    "        h = self.bc7(h)\n",
    "        h = F.leaky_relu(h)\n",
    "        h = F.dropout(h, p=0.4, training=self.training)\n",
    "        \n",
    "        h = self.fc8(h)\n",
    "        out = F.sigmoid(h)\n",
    "        return out\n",
    "\n",
    "G = Generator()\n",
    "print(G.cuda())\n",
    "g_optimizer = optim.Adam(G.parameters(), lr=0.001)\n"
   ]
  },
  {
   "cell_type": "markdown",
   "metadata": {
    "deletable": true,
    "editable": true
   },
   "source": [
    "## Model Visualization"
   ]
  },
  {
   "cell_type": "code",
   "execution_count": 6,
   "metadata": {
    "collapsed": true,
    "deletable": true,
    "editable": true
   },
   "outputs": [],
   "source": [
    "def make_dot(var):\n",
    "    node_attr = dict(style='filled',\n",
    "                     shape='box',\n",
    "                     align='left',\n",
    "                     fontsize='12',\n",
    "                     ranksep='0.1',\n",
    "                     height='0.2')\n",
    "    dot = Digraph(node_attr=node_attr, graph_attr=dict(size=\"12,12\"))\n",
    "    seen = set()\n",
    "\n",
    "    def add_nodes(var):\n",
    "        if var not in seen:\n",
    "            if isinstance(var, Variable):\n",
    "                value = '('+(', ').join(['%d'% v for v in var.size()])+')'\n",
    "                dot.node(str(id(var)), str(value), fillcolor='lightblue')\n",
    "            else:\n",
    "                dot.node(str(id(var)), str(type(var).__name__))\n",
    "            seen.add(var)\n",
    "            if hasattr(var, 'previous_functions'):\n",
    "                for u in var.previous_functions:\n",
    "                    dot.edge(str(id(u[0])), str(id(var)))\n",
    "                    add_nodes(u[0])\n",
    "    add_nodes(var.creator)\n",
    "    return dot"
   ]
  },
  {
   "cell_type": "markdown",
   "metadata": {
    "deletable": true,
    "editable": true
   },
   "source": [
    "### Discriminator for Real Images"
   ]
  },
  {
   "cell_type": "code",
   "execution_count": 7,
   "metadata": {
    "collapsed": false,
    "deletable": true,
    "editable": true
   },
   "outputs": [
    {
     "data": {
      "image/svg+xml": [
       "<?xml version=\"1.0\" encoding=\"UTF-8\" standalone=\"no\"?>\n",
       "<!DOCTYPE svg PUBLIC \"-//W3C//DTD SVG 1.1//EN\"\n",
       " \"http://www.w3.org/Graphics/SVG/1.1/DTD/svg11.dtd\">\n",
       "<!-- Generated by graphviz version 2.38.0 (20140413.2041)\n",
       " -->\n",
       "<!-- Title: %3 Pages: 1 -->\n",
       "<svg width=\"457pt\" height=\"656pt\"\n",
       " viewBox=\"0.00 0.00 457.00 656.00\" xmlns=\"http://www.w3.org/2000/svg\" xmlns:xlink=\"http://www.w3.org/1999/xlink\">\n",
       "<g id=\"graph0\" class=\"graph\" transform=\"scale(1 1) rotate(0) translate(4 652)\">\n",
       "<title>%3</title>\n",
       "<polygon fill=\"white\" stroke=\"none\" points=\"-4,4 -4,-652 453,-652 453,4 -4,4\"/>\n",
       "<!-- 140276476886152 -->\n",
       "<g id=\"node1\" class=\"node\"><title>140276476886152</title>\n",
       "<polygon fill=\"lightgrey\" stroke=\"black\" points=\"378,-21 322,-21 322,-0 378,-0 378,-21\"/>\n",
       "<text text-anchor=\"middle\" x=\"350\" y=\"-7.4\" font-family=\"Times,serif\" font-size=\"12.00\">Sigmoid</text>\n",
       "</g>\n",
       "<!-- 140276476885928 -->\n",
       "<g id=\"node2\" class=\"node\"><title>140276476885928</title>\n",
       "<polygon fill=\"lightgrey\" stroke=\"black\" points=\"377,-78 323,-78 323,-57 377,-57 377,-78\"/>\n",
       "<text text-anchor=\"middle\" x=\"350\" y=\"-64.4\" font-family=\"Times,serif\" font-size=\"12.00\">Linear</text>\n",
       "</g>\n",
       "<!-- 140276476885928&#45;&gt;140276476886152 -->\n",
       "<g id=\"edge1\" class=\"edge\"><title>140276476885928&#45;&gt;140276476886152</title>\n",
       "<path fill=\"none\" stroke=\"black\" d=\"M350,-56.9197C350,-49.9083 350,-40.1442 350,-31.4652\"/>\n",
       "<polygon fill=\"black\" stroke=\"black\" points=\"353.5,-31.3408 350,-21.3408 346.5,-31.3409 353.5,-31.3408\"/>\n",
       "</g>\n",
       "<!-- 140276476885480 -->\n",
       "<g id=\"node3\" class=\"node\"><title>140276476885480</title>\n",
       "<polygon fill=\"lightgrey\" stroke=\"black\" points=\"304.5,-135 227.5,-135 227.5,-114 304.5,-114 304.5,-135\"/>\n",
       "<text text-anchor=\"middle\" x=\"266\" y=\"-121.4\" font-family=\"Times,serif\" font-size=\"12.00\">LeakyReLU</text>\n",
       "</g>\n",
       "<!-- 140276476885480&#45;&gt;140276476885928 -->\n",
       "<g id=\"edge2\" class=\"edge\"><title>140276476885480&#45;&gt;140276476885928</title>\n",
       "<path fill=\"none\" stroke=\"black\" d=\"M280.632,-113.92C293.322,-105.611 311.915,-93.4363 326.659,-83.7828\"/>\n",
       "<polygon fill=\"black\" stroke=\"black\" points=\"328.805,-86.5611 335.254,-78.155 324.971,-80.7048 328.805,-86.5611\"/>\n",
       "</g>\n",
       "<!-- 140276476884808 -->\n",
       "<g id=\"node4\" class=\"node\"><title>140276476884808</title>\n",
       "<polygon fill=\"lightgrey\" stroke=\"black\" points=\"293,-192 239,-192 239,-171 293,-171 293,-192\"/>\n",
       "<text text-anchor=\"middle\" x=\"266\" y=\"-178.4\" font-family=\"Times,serif\" font-size=\"12.00\">Linear</text>\n",
       "</g>\n",
       "<!-- 140276476884808&#45;&gt;140276476885480 -->\n",
       "<g id=\"edge3\" class=\"edge\"><title>140276476884808&#45;&gt;140276476885480</title>\n",
       "<path fill=\"none\" stroke=\"black\" d=\"M266,-170.92C266,-163.908 266,-154.144 266,-145.465\"/>\n",
       "<polygon fill=\"black\" stroke=\"black\" points=\"269.5,-145.341 266,-135.341 262.5,-145.341 269.5,-145.341\"/>\n",
       "</g>\n",
       "<!-- 140276476885256 -->\n",
       "<g id=\"node5\" class=\"node\"><title>140276476885256</title>\n",
       "<polygon fill=\"lightgrey\" stroke=\"black\" points=\"218,-249 162,-249 162,-228 218,-228 218,-249\"/>\n",
       "<text text-anchor=\"middle\" x=\"190\" y=\"-235.4\" font-family=\"Times,serif\" font-size=\"12.00\">Dropout</text>\n",
       "</g>\n",
       "<!-- 140276476885256&#45;&gt;140276476884808 -->\n",
       "<g id=\"edge4\" class=\"edge\"><title>140276476885256&#45;&gt;140276476884808</title>\n",
       "<path fill=\"none\" stroke=\"black\" d=\"M203.238,-227.92C214.611,-219.689 231.226,-207.666 244.503,-198.057\"/>\n",
       "<polygon fill=\"black\" stroke=\"black\" points=\"246.609,-200.853 252.659,-192.155 242.505,-195.182 246.609,-200.853\"/>\n",
       "</g>\n",
       "<!-- 140276476885032 -->\n",
       "<g id=\"node6\" class=\"node\"><title>140276476885032</title>\n",
       "<polygon fill=\"lightgrey\" stroke=\"black\" points=\"228.5,-306 151.5,-306 151.5,-285 228.5,-285 228.5,-306\"/>\n",
       "<text text-anchor=\"middle\" x=\"190\" y=\"-292.4\" font-family=\"Times,serif\" font-size=\"12.00\">LeakyReLU</text>\n",
       "</g>\n",
       "<!-- 140276476885032&#45;&gt;140276476885256 -->\n",
       "<g id=\"edge5\" class=\"edge\"><title>140276476885032&#45;&gt;140276476885256</title>\n",
       "<path fill=\"none\" stroke=\"black\" d=\"M190,-284.92C190,-277.908 190,-268.144 190,-259.465\"/>\n",
       "<polygon fill=\"black\" stroke=\"black\" points=\"193.5,-259.341 190,-249.341 186.5,-259.341 193.5,-259.341\"/>\n",
       "</g>\n",
       "<!-- 140276476884584 -->\n",
       "<g id=\"node7\" class=\"node\"><title>140276476884584</title>\n",
       "<polygon fill=\"lightgrey\" stroke=\"black\" points=\"217,-363 163,-363 163,-342 217,-342 217,-363\"/>\n",
       "<text text-anchor=\"middle\" x=\"190\" y=\"-349.4\" font-family=\"Times,serif\" font-size=\"12.00\">Linear</text>\n",
       "</g>\n",
       "<!-- 140276476884584&#45;&gt;140276476885032 -->\n",
       "<g id=\"edge6\" class=\"edge\"><title>140276476884584&#45;&gt;140276476885032</title>\n",
       "<path fill=\"none\" stroke=\"black\" d=\"M190,-341.92C190,-334.908 190,-325.144 190,-316.465\"/>\n",
       "<polygon fill=\"black\" stroke=\"black\" points=\"193.5,-316.341 190,-306.341 186.5,-316.341 193.5,-316.341\"/>\n",
       "</g>\n",
       "<!-- 140276476885704 -->\n",
       "<g id=\"node8\" class=\"node\"><title>140276476885704</title>\n",
       "<polygon fill=\"lightgrey\" stroke=\"black\" points=\"139,-420 83,-420 83,-399 139,-399 139,-420\"/>\n",
       "<text text-anchor=\"middle\" x=\"111\" y=\"-406.4\" font-family=\"Times,serif\" font-size=\"12.00\">Dropout</text>\n",
       "</g>\n",
       "<!-- 140276476885704&#45;&gt;140276476884584 -->\n",
       "<g id=\"edge7\" class=\"edge\"><title>140276476885704&#45;&gt;140276476884584</title>\n",
       "<path fill=\"none\" stroke=\"black\" d=\"M124.761,-398.92C136.583,-390.689 153.853,-378.666 167.655,-369.057\"/>\n",
       "<polygon fill=\"black\" stroke=\"black\" points=\"169.925,-371.741 176.132,-363.155 165.925,-365.996 169.925,-371.741\"/>\n",
       "</g>\n",
       "<!-- 140276476886376 -->\n",
       "<g id=\"node9\" class=\"node\"><title>140276476886376</title>\n",
       "<polygon fill=\"lightgrey\" stroke=\"black\" points=\"149.5,-477 72.5,-477 72.5,-456 149.5,-456 149.5,-477\"/>\n",
       "<text text-anchor=\"middle\" x=\"111\" y=\"-463.4\" font-family=\"Times,serif\" font-size=\"12.00\">LeakyReLU</text>\n",
       "</g>\n",
       "<!-- 140276476886376&#45;&gt;140276476885704 -->\n",
       "<g id=\"edge8\" class=\"edge\"><title>140276476886376&#45;&gt;140276476885704</title>\n",
       "<path fill=\"none\" stroke=\"black\" d=\"M111,-455.92C111,-448.908 111,-439.144 111,-430.465\"/>\n",
       "<polygon fill=\"black\" stroke=\"black\" points=\"114.5,-430.341 111,-420.341 107.5,-430.341 114.5,-430.341\"/>\n",
       "</g>\n",
       "<!-- 140277753674440 -->\n",
       "<g id=\"node10\" class=\"node\"><title>140277753674440</title>\n",
       "<polygon fill=\"lightgrey\" stroke=\"black\" points=\"138,-534 84,-534 84,-513 138,-513 138,-534\"/>\n",
       "<text text-anchor=\"middle\" x=\"111\" y=\"-520.4\" font-family=\"Times,serif\" font-size=\"12.00\">Linear</text>\n",
       "</g>\n",
       "<!-- 140277753674440&#45;&gt;140276476886376 -->\n",
       "<g id=\"edge9\" class=\"edge\"><title>140277753674440&#45;&gt;140276476886376</title>\n",
       "<path fill=\"none\" stroke=\"black\" d=\"M111,-512.92C111,-505.908 111,-496.144 111,-487.465\"/>\n",
       "<polygon fill=\"black\" stroke=\"black\" points=\"114.5,-487.341 111,-477.341 107.5,-487.341 114.5,-487.341\"/>\n",
       "</g>\n",
       "<!-- 140277753674216 -->\n",
       "<g id=\"node11\" class=\"node\"><title>140277753674216</title>\n",
       "<polygon fill=\"lightgrey\" stroke=\"black\" points=\"60,-591 6,-591 6,-570 60,-570 60,-591\"/>\n",
       "<text text-anchor=\"middle\" x=\"33\" y=\"-577.4\" font-family=\"Times,serif\" font-size=\"12.00\">View</text>\n",
       "</g>\n",
       "<!-- 140277753674216&#45;&gt;140277753674440 -->\n",
       "<g id=\"edge10\" class=\"edge\"><title>140277753674216&#45;&gt;140277753674440</title>\n",
       "<path fill=\"none\" stroke=\"black\" d=\"M46.5866,-569.92C58.2589,-561.689 75.3105,-549.666 88.9378,-540.057\"/>\n",
       "<polygon fill=\"black\" stroke=\"black\" points=\"91.1518,-542.778 97.3074,-534.155 87.1179,-537.057 91.1518,-542.778\"/>\n",
       "</g>\n",
       "<!-- 140276469953464 -->\n",
       "<g id=\"node12\" class=\"node\"><title>140276469953464</title>\n",
       "<polygon fill=\"lightblue\" stroke=\"black\" points=\"66,-648 0,-648 0,-627 66,-627 66,-648\"/>\n",
       "<text text-anchor=\"middle\" x=\"33\" y=\"-634.4\" font-family=\"Times,serif\" font-size=\"12.00\">(1, 28, 28)</text>\n",
       "</g>\n",
       "<!-- 140276469953464&#45;&gt;140277753674216 -->\n",
       "<g id=\"edge11\" class=\"edge\"><title>140276469953464&#45;&gt;140277753674216</title>\n",
       "<path fill=\"none\" stroke=\"black\" d=\"M33,-626.92C33,-619.908 33,-610.144 33,-601.465\"/>\n",
       "<polygon fill=\"black\" stroke=\"black\" points=\"36.5001,-601.341 33,-591.341 29.5001,-601.341 36.5001,-601.341\"/>\n",
       "</g>\n",
       "<!-- 140276476776120 -->\n",
       "<g id=\"node13\" class=\"node\"><title>140276476776120</title>\n",
       "<polygon fill=\"lightblue\" stroke=\"black\" points=\"144,-591 78,-591 78,-570 144,-570 144,-591\"/>\n",
       "<text text-anchor=\"middle\" x=\"111\" y=\"-577.4\" font-family=\"Times,serif\" font-size=\"12.00\">(441, 784)</text>\n",
       "</g>\n",
       "<!-- 140276476776120&#45;&gt;140277753674440 -->\n",
       "<g id=\"edge12\" class=\"edge\"><title>140276476776120&#45;&gt;140277753674440</title>\n",
       "<path fill=\"none\" stroke=\"black\" d=\"M111,-569.92C111,-562.908 111,-553.144 111,-544.465\"/>\n",
       "<polygon fill=\"black\" stroke=\"black\" points=\"114.5,-544.341 111,-534.341 107.5,-544.341 114.5,-544.341\"/>\n",
       "</g>\n",
       "<!-- 140276469782576 -->\n",
       "<g id=\"node14\" class=\"node\"><title>140276469782576</title>\n",
       "<polygon fill=\"lightblue\" stroke=\"black\" points=\"216,-591 162,-591 162,-570 216,-570 216,-591\"/>\n",
       "<text text-anchor=\"middle\" x=\"189\" y=\"-577.4\" font-family=\"Times,serif\" font-size=\"12.00\">(441)</text>\n",
       "</g>\n",
       "<!-- 140276469782576&#45;&gt;140277753674440 -->\n",
       "<g id=\"edge13\" class=\"edge\"><title>140276469782576&#45;&gt;140277753674440</title>\n",
       "<path fill=\"none\" stroke=\"black\" d=\"M175.413,-569.92C163.741,-561.689 146.69,-549.666 133.062,-540.057\"/>\n",
       "<polygon fill=\"black\" stroke=\"black\" points=\"134.882,-537.057 124.693,-534.155 130.848,-542.778 134.882,-537.057\"/>\n",
       "</g>\n",
       "<!-- 140277994830664 -->\n",
       "<g id=\"node15\" class=\"node\"><title>140277994830664</title>\n",
       "<polygon fill=\"lightblue\" stroke=\"black\" points=\"223,-420 157,-420 157,-399 223,-399 223,-420\"/>\n",
       "<text text-anchor=\"middle\" x=\"190\" y=\"-406.4\" font-family=\"Times,serif\" font-size=\"12.00\">(256, 441)</text>\n",
       "</g>\n",
       "<!-- 140277994830664&#45;&gt;140276476884584 -->\n",
       "<g id=\"edge14\" class=\"edge\"><title>140277994830664&#45;&gt;140276476884584</title>\n",
       "<path fill=\"none\" stroke=\"black\" d=\"M190,-398.92C190,-391.908 190,-382.144 190,-373.465\"/>\n",
       "<polygon fill=\"black\" stroke=\"black\" points=\"193.5,-373.341 190,-363.341 186.5,-373.341 193.5,-373.341\"/>\n",
       "</g>\n",
       "<!-- 140276469782400 -->\n",
       "<g id=\"node16\" class=\"node\"><title>140276469782400</title>\n",
       "<polygon fill=\"lightblue\" stroke=\"black\" points=\"295,-420 241,-420 241,-399 295,-399 295,-420\"/>\n",
       "<text text-anchor=\"middle\" x=\"268\" y=\"-406.4\" font-family=\"Times,serif\" font-size=\"12.00\">(256)</text>\n",
       "</g>\n",
       "<!-- 140276469782400&#45;&gt;140276476884584 -->\n",
       "<g id=\"edge15\" class=\"edge\"><title>140276469782400&#45;&gt;140276476884584</title>\n",
       "<path fill=\"none\" stroke=\"black\" d=\"M254.413,-398.92C242.741,-390.689 225.69,-378.666 212.062,-369.057\"/>\n",
       "<polygon fill=\"black\" stroke=\"black\" points=\"213.882,-366.057 203.693,-363.155 209.848,-371.778 213.882,-366.057\"/>\n",
       "</g>\n",
       "<!-- 140276469781960 -->\n",
       "<g id=\"node17\" class=\"node\"><title>140276469781960</title>\n",
       "<polygon fill=\"lightblue\" stroke=\"black\" points=\"296,-249 236,-249 236,-228 296,-228 296,-249\"/>\n",
       "<text text-anchor=\"middle\" x=\"266\" y=\"-235.4\" font-family=\"Times,serif\" font-size=\"12.00\">(32, 256)</text>\n",
       "</g>\n",
       "<!-- 140276469781960&#45;&gt;140276476884808 -->\n",
       "<g id=\"edge16\" class=\"edge\"><title>140276469781960&#45;&gt;140276476884808</title>\n",
       "<path fill=\"none\" stroke=\"black\" d=\"M266,-227.92C266,-220.908 266,-211.144 266,-202.465\"/>\n",
       "<polygon fill=\"black\" stroke=\"black\" points=\"269.5,-202.341 266,-192.341 262.5,-202.341 269.5,-202.341\"/>\n",
       "</g>\n",
       "<!-- 140276469782928 -->\n",
       "<g id=\"node18\" class=\"node\"><title>140276469782928</title>\n",
       "<polygon fill=\"lightblue\" stroke=\"black\" points=\"368,-249 314,-249 314,-228 368,-228 368,-249\"/>\n",
       "<text text-anchor=\"middle\" x=\"341\" y=\"-235.4\" font-family=\"Times,serif\" font-size=\"12.00\">(32)</text>\n",
       "</g>\n",
       "<!-- 140276469782928&#45;&gt;140276476884808 -->\n",
       "<g id=\"edge17\" class=\"edge\"><title>140276469782928&#45;&gt;140276476884808</title>\n",
       "<path fill=\"none\" stroke=\"black\" d=\"M327.936,-227.92C316.82,-219.768 300.629,-207.894 287.589,-198.332\"/>\n",
       "<polygon fill=\"black\" stroke=\"black\" points=\"289.3,-195.246 279.166,-192.155 285.16,-200.891 289.3,-195.246\"/>\n",
       "</g>\n",
       "<!-- 140276469782752 -->\n",
       "<g id=\"node19\" class=\"node\"><title>140276469782752</title>\n",
       "<polygon fill=\"lightblue\" stroke=\"black\" points=\"377,-135 323,-135 323,-114 377,-114 377,-135\"/>\n",
       "<text text-anchor=\"middle\" x=\"350\" y=\"-121.4\" font-family=\"Times,serif\" font-size=\"12.00\">(1, 32)</text>\n",
       "</g>\n",
       "<!-- 140276469782752&#45;&gt;140276476885928 -->\n",
       "<g id=\"edge18\" class=\"edge\"><title>140276469782752&#45;&gt;140276476885928</title>\n",
       "<path fill=\"none\" stroke=\"black\" d=\"M350,-113.92C350,-106.908 350,-97.1442 350,-88.4652\"/>\n",
       "<polygon fill=\"black\" stroke=\"black\" points=\"353.5,-88.3408 350,-78.3408 346.5,-88.3409 353.5,-88.3408\"/>\n",
       "</g>\n",
       "<!-- 140276469782136 -->\n",
       "<g id=\"node20\" class=\"node\"><title>140276469782136</title>\n",
       "<polygon fill=\"lightblue\" stroke=\"black\" points=\"449,-135 395,-135 395,-114 449,-114 449,-135\"/>\n",
       "<text text-anchor=\"middle\" x=\"422\" y=\"-121.4\" font-family=\"Times,serif\" font-size=\"12.00\">(1)</text>\n",
       "</g>\n",
       "<!-- 140276469782136&#45;&gt;140276476885928 -->\n",
       "<g id=\"edge19\" class=\"edge\"><title>140276469782136&#45;&gt;140276476885928</title>\n",
       "<path fill=\"none\" stroke=\"black\" d=\"M409.459,-113.92C398.852,-105.818 383.434,-94.0399 370.956,-84.5082\"/>\n",
       "<polygon fill=\"black\" stroke=\"black\" points=\"372.954,-81.6299 362.883,-78.3408 368.705,-87.1926 372.954,-81.6299\"/>\n",
       "</g>\n",
       "</g>\n",
       "</svg>\n"
      ],
      "text/plain": [
       "<graphviz.dot.Digraph at 0x7f94f5af90f0>"
      ]
     },
     "execution_count": 7,
     "metadata": {},
     "output_type": "execute_result"
    }
   ],
   "source": [
    "real_image = train[0][0].cuda()\n",
    "real_image = Variable(real_image)\n",
    "make_dot(D(real_image))"
   ]
  },
  {
   "cell_type": "markdown",
   "metadata": {
    "deletable": true,
    "editable": true
   },
   "source": [
    "### Discriminator for Fake Images"
   ]
  },
  {
   "cell_type": "code",
   "execution_count": 8,
   "metadata": {
    "collapsed": false,
    "deletable": true,
    "editable": true
   },
   "outputs": [
    {
     "data": {
      "image/svg+xml": [
       "<?xml version=\"1.0\" encoding=\"UTF-8\" standalone=\"no\"?>\n",
       "<!DOCTYPE svg PUBLIC \"-//W3C//DTD SVG 1.1//EN\"\n",
       " \"http://www.w3.org/Graphics/SVG/1.1/DTD/svg11.dtd\">\n",
       "<!-- Generated by graphviz version 2.38.0 (20140413.2041)\n",
       " -->\n",
       "<!-- Title: %3 Pages: 1 -->\n",
       "<svg width=\"253pt\" height=\"257pt\"\n",
       " viewBox=\"0.00 0.00 252.50 257.00\" xmlns=\"http://www.w3.org/2000/svg\" xmlns:xlink=\"http://www.w3.org/1999/xlink\">\n",
       "<g id=\"graph0\" class=\"graph\" transform=\"scale(1 1) rotate(0) translate(4 253)\">\n",
       "<title>%3</title>\n",
       "<polygon fill=\"white\" stroke=\"none\" points=\"-4,4 -4,-253 248.5,-253 248.5,4 -4,4\"/>\n",
       "<!-- 140276301174152 -->\n",
       "<g id=\"node1\" class=\"node\"><title>140276301174152</title>\n",
       "<polygon fill=\"lightgrey\" stroke=\"black\" points=\"167.5,-21 111.5,-21 111.5,-0 167.5,-0 167.5,-21\"/>\n",
       "<text text-anchor=\"middle\" x=\"139.5\" y=\"-7.4\" font-family=\"Times,serif\" font-size=\"12.00\">Sigmoid</text>\n",
       "</g>\n",
       "<!-- 140276301172808 -->\n",
       "<g id=\"node2\" class=\"node\"><title>140276301172808</title>\n",
       "<polygon fill=\"lightgrey\" stroke=\"black\" points=\"166.5,-78 112.5,-78 112.5,-57 166.5,-57 166.5,-78\"/>\n",
       "<text text-anchor=\"middle\" x=\"139.5\" y=\"-64.4\" font-family=\"Times,serif\" font-size=\"12.00\">Linear</text>\n",
       "</g>\n",
       "<!-- 140276301172808&#45;&gt;140276301174152 -->\n",
       "<g id=\"edge1\" class=\"edge\"><title>140276301172808&#45;&gt;140276301174152</title>\n",
       "<path fill=\"none\" stroke=\"black\" d=\"M139.5,-56.9197C139.5,-49.9083 139.5,-40.1442 139.5,-31.4652\"/>\n",
       "<polygon fill=\"black\" stroke=\"black\" points=\"143,-31.3408 139.5,-21.3408 136,-31.3409 143,-31.3408\"/>\n",
       "</g>\n",
       "<!-- 140276301173032 -->\n",
       "<g id=\"node3\" class=\"node\"><title>140276301173032</title>\n",
       "<polygon fill=\"lightgrey\" stroke=\"black\" points=\"88.5,-135 32.5,-135 32.5,-114 88.5,-114 88.5,-135\"/>\n",
       "<text text-anchor=\"middle\" x=\"60.5\" y=\"-121.4\" font-family=\"Times,serif\" font-size=\"12.00\">Dropout</text>\n",
       "</g>\n",
       "<!-- 140276301173032&#45;&gt;140276301172808 -->\n",
       "<g id=\"edge2\" class=\"edge\"><title>140276301173032&#45;&gt;140276301172808</title>\n",
       "<path fill=\"none\" stroke=\"black\" d=\"M74.2607,-113.92C86.0827,-105.689 103.353,-93.6657 117.155,-84.0567\"/>\n",
       "<polygon fill=\"black\" stroke=\"black\" points=\"119.425,-86.7412 125.632,-78.155 115.425,-80.9963 119.425,-86.7412\"/>\n",
       "</g>\n",
       "<!-- 140276301164328 -->\n",
       "<g id=\"node4\" class=\"node\"><title>140276301164328</title>\n",
       "<polygon fill=\"lightgrey\" stroke=\"black\" points=\"99,-192 22,-192 22,-171 99,-171 99,-192\"/>\n",
       "<text text-anchor=\"middle\" x=\"60.5\" y=\"-178.4\" font-family=\"Times,serif\" font-size=\"12.00\">LeakyReLU</text>\n",
       "</g>\n",
       "<!-- 140276301164328&#45;&gt;140276301173032 -->\n",
       "<g id=\"edge3\" class=\"edge\"><title>140276301164328&#45;&gt;140276301173032</title>\n",
       "<path fill=\"none\" stroke=\"black\" d=\"M60.5,-170.92C60.5,-163.908 60.5,-154.144 60.5,-145.465\"/>\n",
       "<polygon fill=\"black\" stroke=\"black\" points=\"64.0001,-145.341 60.5,-135.341 57.0001,-145.341 64.0001,-145.341\"/>\n",
       "</g>\n",
       "<!-- 140276469878624 -->\n",
       "<g id=\"node5\" class=\"node\"><title>140276469878624</title>\n",
       "<polygon fill=\"lightgrey\" stroke=\"black\" points=\"121,-249 7.10543e-15,-249 7.10543e-15,-228 121,-228 121,-249\"/>\n",
       "<text text-anchor=\"middle\" x=\"60.5\" y=\"-235.4\" font-family=\"Times,serif\" font-size=\"12.00\">BatchNormBackward</text>\n",
       "</g>\n",
       "<!-- 140276469878624&#45;&gt;140276301164328 -->\n",
       "<g id=\"edge4\" class=\"edge\"><title>140276469878624&#45;&gt;140276301164328</title>\n",
       "<path fill=\"none\" stroke=\"black\" d=\"M60.5,-227.92C60.5,-220.908 60.5,-211.144 60.5,-202.465\"/>\n",
       "<polygon fill=\"black\" stroke=\"black\" points=\"64.0001,-202.341 60.5,-192.341 57.0001,-202.341 64.0001,-202.341\"/>\n",
       "</g>\n",
       "<!-- 140276469830144 -->\n",
       "<g id=\"node6\" class=\"node\"><title>140276469830144</title>\n",
       "<polygon fill=\"lightblue\" stroke=\"black\" points=\"172.5,-135 106.5,-135 106.5,-114 172.5,-114 172.5,-135\"/>\n",
       "<text text-anchor=\"middle\" x=\"139.5\" y=\"-121.4\" font-family=\"Times,serif\" font-size=\"12.00\">(784, 784)</text>\n",
       "</g>\n",
       "<!-- 140276469830144&#45;&gt;140276301172808 -->\n",
       "<g id=\"edge5\" class=\"edge\"><title>140276469830144&#45;&gt;140276301172808</title>\n",
       "<path fill=\"none\" stroke=\"black\" d=\"M139.5,-113.92C139.5,-106.908 139.5,-97.1442 139.5,-88.4652\"/>\n",
       "<polygon fill=\"black\" stroke=\"black\" points=\"143,-88.3408 139.5,-78.3408 136,-88.3409 143,-88.3408\"/>\n",
       "</g>\n",
       "<!-- 140276469830232 -->\n",
       "<g id=\"node7\" class=\"node\"><title>140276469830232</title>\n",
       "<polygon fill=\"lightblue\" stroke=\"black\" points=\"244.5,-135 190.5,-135 190.5,-114 244.5,-114 244.5,-135\"/>\n",
       "<text text-anchor=\"middle\" x=\"217.5\" y=\"-121.4\" font-family=\"Times,serif\" font-size=\"12.00\">(784)</text>\n",
       "</g>\n",
       "<!-- 140276469830232&#45;&gt;140276301172808 -->\n",
       "<g id=\"edge6\" class=\"edge\"><title>140276469830232&#45;&gt;140276301172808</title>\n",
       "<path fill=\"none\" stroke=\"black\" d=\"M203.913,-113.92C192.241,-105.689 175.19,-93.6657 161.562,-84.0567\"/>\n",
       "<polygon fill=\"black\" stroke=\"black\" points=\"163.382,-81.0574 153.193,-78.155 159.348,-86.7782 163.382,-81.0574\"/>\n",
       "</g>\n",
       "</g>\n",
       "</svg>\n"
      ],
      "text/plain": [
       "<graphviz.dot.Digraph at 0x7f94a991aba8>"
      ]
     },
     "execution_count": 8,
     "metadata": {},
     "output_type": "execute_result"
    }
   ],
   "source": [
    "fake_distributions = Variable(torch.randn((BATCH_SIZE, 100)).cuda())\n",
    "images = G(fake_distributions)\n",
    "make_dot(images)"
   ]
  },
  {
   "cell_type": "markdown",
   "metadata": {
    "deletable": true,
    "editable": true
   },
   "source": [
    "## Train\n",
    "\n",
    "* $ 1 $ : real images\n",
    "* $ 0 $ : fake images"
   ]
  },
  {
   "cell_type": "code",
   "execution_count": 9,
   "metadata": {
    "collapsed": false,
    "deletable": true,
    "editable": true
   },
   "outputs": [],
   "source": [
    "N_EPOCH = 100\n",
    "\n",
    "real_y = Variable(torch.ones((BATCH_SIZE, 1)).cuda())\n",
    "fake_y = Variable(torch.zeros((BATCH_SIZE, 1)).cuda())\n",
    "loss_f = nn.BCELoss()\n",
    "\n",
    "d_real_losses = list()\n",
    "d_fake_losses = list()\n",
    "d_losses = list()\n",
    "g_losses = list()\n",
    "divergences = list()"
   ]
  },
  {
   "cell_type": "code",
   "execution_count": 10,
   "metadata": {
    "collapsed": false,
    "deletable": true,
    "editable": true,
    "scrolled": false
   },
   "outputs": [
    {
     "name": "stdout",
     "output_type": "stream",
     "text": [
      "[1/100] divergence: 0.965    D: 0.0533   D_real: 0.0948   D_fake: 0.0533   G:5.52    \n",
      "[2/100] divergence: 0.893    D: 0.174    D_real: 0.214    D_fake: 0.174    G:3.4     \n",
      "[3/100] divergence: 0.849    D: 0.235    D_real: 0.289    D_fake: 0.235    G:2.8     \n",
      "[4/100] divergence: 0.81     D: 0.293    D_real: 0.332    D_fake: 0.293    G:2.29    \n",
      "[5/100] divergence: 0.782    D: 0.304    D_real: 0.38     D_fake: 0.304    G:2.03    \n",
      "[6/100] divergence: 0.76     D: 0.357    D_real: 0.415    D_fake: 0.357    G:1.89    \n",
      "[7/100] divergence: 0.744    D: 0.365    D_real: 0.428    D_fake: 0.365    G:1.78    \n",
      "[8/100] divergence: 0.73     D: 0.389    D_real: 0.443    D_fake: 0.389    G:1.66    \n",
      "[9/100] divergence: 0.719    D: 0.413    D_real: 0.452    D_fake: 0.413    G:1.62    \n",
      "[10/100] divergence: 0.706    D: 0.415    D_real: 0.466    D_fake: 0.415    G:1.56    \n",
      "[11/100] divergence: 0.709    D: 0.415    D_real: 0.463    D_fake: 0.415    G:1.55    \n",
      "[12/100] divergence: 0.703    D: 0.428    D_real: 0.457    D_fake: 0.428    G:1.53    \n",
      "[13/100] divergence: 0.695    D: 0.44     D_real: 0.473    D_fake: 0.44     G:1.51    \n",
      "[14/100] divergence: 0.697    D: 0.422    D_real: 0.481    D_fake: 0.422    G:1.5     \n",
      "[15/100] divergence: 0.692    D: 0.438    D_real: 0.487    D_fake: 0.438    G:1.47    \n",
      "[16/100] divergence: 0.689    D: 0.435    D_real: 0.479    D_fake: 0.435    G:1.44    \n",
      "[17/100] divergence: 0.693    D: 0.427    D_real: 0.472    D_fake: 0.427    G:1.45    \n",
      "[18/100] divergence: 0.691    D: 0.439    D_real: 0.485    D_fake: 0.439    G:1.45    \n",
      "[19/100] divergence: 0.696    D: 0.418    D_real: 0.479    D_fake: 0.418    G:1.42    \n",
      "[20/100] divergence: 0.696    D: 0.432    D_real: 0.466    D_fake: 0.432    G:1.48    \n",
      "[21/100] divergence: 0.685    D: 0.433    D_real: 0.503    D_fake: 0.433    G:1.43    \n",
      "[22/100] divergence: 0.687    D: 0.433    D_real: 0.494    D_fake: 0.433    G:1.47    \n",
      "[23/100] divergence: 0.689    D: 0.425    D_real: 0.505    D_fake: 0.425    G:1.45    \n",
      "[24/100] divergence: 0.696    D: 0.426    D_real: 0.474    D_fake: 0.426    G:1.49    \n",
      "[25/100] divergence: 0.696    D: 0.429    D_real: 0.479    D_fake: 0.429    G:1.51    \n",
      "[26/100] divergence: 0.703    D: 0.405    D_real: 0.473    D_fake: 0.405    G:1.49    \n",
      "[27/100] divergence: 0.698    D: 0.415    D_real: 0.468    D_fake: 0.415    G:1.5     \n",
      "[28/100] divergence: 0.692    D: 0.433    D_real: 0.495    D_fake: 0.433    G:1.45    \n",
      "[29/100] divergence: 0.699    D: 0.411    D_real: 0.477    D_fake: 0.411    G:1.48    \n",
      "[30/100] divergence: 0.699    D: 0.411    D_real: 0.478    D_fake: 0.411    G:1.51    \n",
      "[31/100] divergence: 0.703    D: 0.399    D_real: 0.476    D_fake: 0.399    G:1.48    \n",
      "[32/100] divergence: 0.704    D: 0.404    D_real: 0.468    D_fake: 0.404    G:1.5     \n",
      "[33/100] divergence: 0.699    D: 0.413    D_real: 0.488    D_fake: 0.413    G:1.5     \n",
      "[34/100] divergence: 0.699    D: 0.426    D_real: 0.465    D_fake: 0.426    G:1.52    \n",
      "[35/100] divergence: 0.706    D: 0.399    D_real: 0.467    D_fake: 0.399    G:1.49    \n",
      "[36/100] divergence: 0.704    D: 0.398    D_real: 0.475    D_fake: 0.398    G:1.54    \n",
      "[37/100] divergence: 0.703    D: 0.392    D_real: 0.478    D_fake: 0.392    G:1.53    \n",
      "[38/100] divergence: 0.706    D: 0.395    D_real: 0.468    D_fake: 0.395    G:1.5     \n",
      "[39/100] divergence: 0.704    D: 0.401    D_real: 0.473    D_fake: 0.401    G:1.51    \n",
      "[40/100] divergence: 0.702    D: 0.418    D_real: 0.462    D_fake: 0.418    G:1.55    \n",
      "[41/100] divergence: 0.704    D: 0.397    D_real: 0.486    D_fake: 0.397    G:1.49    \n",
      "[42/100] divergence: 0.707    D: 0.4      D_real: 0.467    D_fake: 0.4      G:1.5     \n",
      "[43/100] divergence: 0.702    D: 0.416    D_real: 0.464    D_fake: 0.416    G:1.48    \n",
      "[44/100] divergence: 0.709    D: 0.402    D_real: 0.448    D_fake: 0.402    G:1.52    \n",
      "[45/100] divergence: 0.711    D: 0.404    D_real: 0.454    D_fake: 0.404    G:1.58    \n",
      "[46/100] divergence: 0.706    D: 0.388    D_real: 0.47     D_fake: 0.388    G:1.52    \n",
      "[47/100] divergence: 0.708    D: 0.407    D_real: 0.454    D_fake: 0.407    G:1.57    \n",
      "[48/100] divergence: 0.719    D: 0.388    D_real: 0.43     D_fake: 0.388    G:1.56    \n",
      "[49/100] divergence: 0.711    D: 0.391    D_real: 0.469    D_fake: 0.391    G:1.55    \n",
      "[50/100] divergence: 0.712    D: 0.401    D_real: 0.469    D_fake: 0.401    G:1.56    \n",
      "[51/100] divergence: 0.713    D: 0.389    D_real: 0.456    D_fake: 0.389    G:1.55    \n",
      "[52/100] divergence: 0.707    D: 0.399    D_real: 0.471    D_fake: 0.399    G:1.54    \n",
      "[53/100] divergence: 0.714    D: 0.393    D_real: 0.456    D_fake: 0.393    G:1.56    \n",
      "[54/100] divergence: 0.716    D: 0.392    D_real: 0.448    D_fake: 0.392    G:1.58    \n",
      "[55/100] divergence: 0.723    D: 0.381    D_real: 0.44     D_fake: 0.381    G:1.6     \n",
      "[56/100] divergence: 0.714    D: 0.384    D_real: 0.46     D_fake: 0.384    G:1.61    \n",
      "[57/100] divergence: 0.72     D: 0.383    D_real: 0.446    D_fake: 0.383    G:1.61    \n",
      "[58/100] divergence: 0.718    D: 0.393    D_real: 0.46     D_fake: 0.393    G:1.58    \n",
      "[59/100] divergence: 0.726    D: 0.36     D_real: 0.452    D_fake: 0.36     G:1.59    \n",
      "[60/100] divergence: 0.725    D: 0.367    D_real: 0.451    D_fake: 0.367    G:1.65    \n",
      "[61/100] divergence: 0.727    D: 0.378    D_real: 0.431    D_fake: 0.378    G:1.66    \n",
      "[62/100] divergence: 0.73     D: 0.355    D_real: 0.441    D_fake: 0.355    G:1.67    \n",
      "[63/100] divergence: 0.725    D: 0.362    D_real: 0.448    D_fake: 0.362    G:1.64    \n",
      "[64/100] divergence: 0.721    D: 0.379    D_real: 0.447    D_fake: 0.379    G:1.61    \n",
      "[65/100] divergence: 0.726    D: 0.369    D_real: 0.445    D_fake: 0.369    G:1.65    \n",
      "[66/100] divergence: 0.735    D: 0.368    D_real: 0.434    D_fake: 0.368    G:1.7     \n",
      "[67/100] divergence: 0.734    D: 0.363    D_real: 0.423    D_fake: 0.363    G:1.62    \n",
      "[68/100] divergence: 0.732    D: 0.375    D_real: 0.427    D_fake: 0.375    G:1.67    \n",
      "[69/100] divergence: 0.726    D: 0.375    D_real: 0.441    D_fake: 0.375    G:1.64    \n",
      "[70/100] divergence: 0.732    D: 0.363    D_real: 0.441    D_fake: 0.363    G:1.67    \n",
      "[71/100] divergence: 0.733    D: 0.36     D_real: 0.427    D_fake: 0.36     G:1.64    \n",
      "[72/100] divergence: 0.734    D: 0.371    D_real: 0.421    D_fake: 0.371    G:1.68    \n",
      "[73/100] divergence: 0.746    D: 0.343    D_real: 0.419    D_fake: 0.343    G:1.67    \n",
      "[74/100] divergence: 0.742    D: 0.351    D_real: 0.419    D_fake: 0.351    G:1.74    \n",
      "[75/100] divergence: 0.747    D: 0.343    D_real: 0.423    D_fake: 0.343    G:1.78    \n",
      "[76/100] divergence: 0.744    D: 0.329    D_real: 0.438    D_fake: 0.329    G:1.77    \n",
      "[77/100] divergence: 0.741    D: 0.344    D_real: 0.435    D_fake: 0.344    G:1.74    \n",
      "[78/100] divergence: 0.739    D: 0.357    D_real: 0.421    D_fake: 0.357    G:1.71    \n",
      "[79/100] divergence: 0.739    D: 0.347    D_real: 0.432    D_fake: 0.347    G:1.77    \n",
      "[80/100] divergence: 0.744    D: 0.336    D_real: 0.434    D_fake: 0.336    G:1.72    \n",
      "[81/100] divergence: 0.749    D: 0.327    D_real: 0.417    D_fake: 0.327    G:1.81    \n",
      "[82/100] divergence: 0.748    D: 0.329    D_real: 0.411    D_fake: 0.329    G:1.76    \n",
      "[83/100] divergence: 0.745    D: 0.334    D_real: 0.427    D_fake: 0.334    G:1.72    \n",
      "[84/100] divergence: 0.751    D: 0.334    D_real: 0.42     D_fake: 0.334    G:1.79    \n",
      "[85/100] divergence: 0.754    D: 0.328    D_real: 0.408    D_fake: 0.328    G:1.79    \n",
      "[86/100] divergence: 0.748    D: 0.332    D_real: 0.417    D_fake: 0.332    G:1.77    \n",
      "[87/100] divergence: 0.762    D: 0.321    D_real: 0.376    D_fake: 0.321    G:1.82    \n",
      "[88/100] divergence: 0.75     D: 0.346    D_real: 0.405    D_fake: 0.346    G:1.79    \n",
      "[89/100] divergence: 0.753    D: 0.322    D_real: 0.419    D_fake: 0.322    G:1.84    \n",
      "[90/100] divergence: 0.759    D: 0.321    D_real: 0.409    D_fake: 0.321    G:1.86    \n",
      "[91/100] divergence: 0.766    D: 0.31     D_real: 0.389    D_fake: 0.31     G:1.81    \n",
      "[92/100] divergence: 0.761    D: 0.318    D_real: 0.4      D_fake: 0.318    G:1.88    \n",
      "[93/100] divergence: 0.761    D: 0.316    D_real: 0.393    D_fake: 0.316    G:1.86    \n",
      "[94/100] divergence: 0.754    D: 0.321    D_real: 0.428    D_fake: 0.321    G:1.84    \n",
      "[95/100] divergence: 0.757    D: 0.317    D_real: 0.403    D_fake: 0.317    G:1.82    \n",
      "[96/100] divergence: 0.764    D: 0.31     D_real: 0.411    D_fake: 0.31     G:1.88    \n",
      "[97/100] divergence: 0.764    D: 0.316    D_real: 0.391    D_fake: 0.316    G:1.85    \n",
      "[98/100] divergence: 0.763    D: 0.313    D_real: 0.4      D_fake: 0.313    G:1.89    \n",
      "[99/100] divergence: 0.772    D: 0.306    D_real: 0.38     D_fake: 0.306    G:1.9     \n",
      "[100/100] divergence: 0.765    D: 0.308    D_real: 0.403    D_fake: 0.308    G:1.91    \n"
     ]
    }
   ],
   "source": [
    "# Train Discriminator with Generator not being trained\n",
    "# 먼저 Discriminator를 학습시킵니다.\n",
    "# 이때 real image와 fake이미지 두개의 데이터를 사용하여 학습합니다. \n",
    "# Discriminator를 학습시킬때는 Generator는 학습시키면 안됩니다.\n",
    "for epoch in range(N_EPOCH):\n",
    "    for step, (real_images, _) in enumerate(train_loader):\n",
    "        # Samples\n",
    "        real_images = Variable(real_images.cuda())\n",
    "        z = Variable(torch.randn((BATCH_SIZE, 100)).cuda())\n",
    "                \n",
    "        ###############################################\n",
    "        # Train D (But do not train G)\n",
    "        ###############################################\n",
    "        # Init D\n",
    "        d_optimizer.zero_grad()\n",
    "        \n",
    "        # Calculate the loss with real images\n",
    "        y_real_pred = D(real_images)\n",
    "        d_real_loss = loss_f(y_real_pred, real_y)\n",
    "#         d_real_loss.backward()\n",
    "#         d_optimizer.step()\n",
    "        \n",
    "        # Calculate the loss with fake images\n",
    "        fake_distributions = Variable(torch.randn((BATCH_SIZE, 100)).cuda())\n",
    "        fake_images = G(fake_distributions).detach()\n",
    "        y_fake_pred = D(fake_images)\n",
    "        d_fake_loss = loss_f(y_fake_pred, fake_y)\n",
    "#         d_fake_loss.backward()\n",
    "#         d_optimizer.step()\n",
    "        \n",
    "        # Update D with G not being updated        \n",
    "        d_loss = d_real_loss + d_fake_loss\n",
    "        d_loss.backward()\n",
    "        d_optimizer.step()\n",
    "\n",
    "        ###############################################\n",
    "        # Train G with fake images but do not train G\n",
    "        ###############################################\n",
    "        g_optimizer.zero_grad()\n",
    "        \n",
    "        fake_distributions = Variable(torch.randn((BATCH_SIZE, 100)).cuda())\n",
    "        fake_images = G(fake_distributions)\n",
    "        y_pred = D(fake_images)\n",
    "        g_loss = loss_f(y_pred, real_y)\n",
    "        g_loss.backward()\n",
    "        g_optimizer.step()\n",
    "        \n",
    "        ###############################################\n",
    "        # Visualization\n",
    "        ###############################################\n",
    "        if step%5 == 0:\n",
    "            d_real_losses.append(d_real_loss.data[0])\n",
    "            d_fake_losses.append(d_fake_loss.data[0])\n",
    "            d_losses.append(d_loss.data[0])\n",
    "            g_losses.append(g_loss.data.cpu().numpy()[0])\n",
    "\n",
    "            divergences.append(torch.mean(y_real_pred/(y_real_pred+y_fake_pred)).data[0])\n",
    "        \n",
    "        if step % 50 == 0:\n",
    "            print(f'\\r[{epoch+1}/{N_EPOCH}]',\n",
    "                  # '{:.3}'.format(torch.mean(params[0]).data[0]),\n",
    "                  'divergence: {:<8.3}'.format(np.mean(divergences[-100:])),\n",
    "                  'D: {:<8.3}'.format(np.mean(d_fake_losses[-100:])), \n",
    "                  'D_real: {:<8.3}'.format(np.mean(d_real_losses[-100:])),\n",
    "                  'D_fake: {:<8.3}'.format(np.mean(d_fake_losses[-100:])), \n",
    "                  'G:{:<8.3}'.format(np.mean(g_losses[-100:])), end='')\n",
    "    print()"
   ]
  },
  {
   "cell_type": "markdown",
   "metadata": {
    "deletable": true,
    "editable": true
   },
   "source": [
    "## Loss Visualization"
   ]
  },
  {
   "cell_type": "code",
   "execution_count": 11,
   "metadata": {
    "collapsed": false,
    "deletable": true,
    "editable": true,
    "scrolled": false
   },
   "outputs": [],
   "source": [
    "def smooth(x,window_len=100,window='hanning'):\n",
    "    x = np.array(x)\n",
    "    \n",
    "    if x.ndim != 1:\n",
    "        raise ValueError(\"smooth only accepts 1 dimension arrays.\")\n",
    "\n",
    "    if x.size < window_len:\n",
    "        raise ValueError(\"Input vector needs to be bigger than window size.\")\n",
    "\n",
    "    if window_len<3:\n",
    "        return x\n",
    "\n",
    "    if not window in ['flat', 'hanning', 'hamming', 'bartlett', 'blackman']:\n",
    "        raise ValueError(\"Window is on of 'flat', 'hanning', 'hamming', 'bartlett', 'blackman'\")\n",
    "\n",
    "    s=numpy.r_[x[window_len-1:0:-1],x,x[-1:-window_len:-1]]\n",
    "    \n",
    "    if window == 'flat': #moving average\n",
    "        w=numpy.ones(window_len,'d')\n",
    "    else:\n",
    "        w=eval('numpy.'+window+'(window_len)')\n",
    "\n",
    "    y=numpy.convolve(w/w.sum(),s,mode='valid')\n",
    "    return y"
   ]
  },
  {
   "cell_type": "code",
   "execution_count": 12,
   "metadata": {
    "collapsed": false,
    "deletable": true,
    "editable": true
   },
   "outputs": [
    {
     "data": {
      "text/plain": [
       "<matplotlib.legend.Legend at 0x7f949c39f9e8>"
      ]
     },
     "execution_count": 12,
     "metadata": {},
     "output_type": "execute_result"
    },
    {
     "data": {
      "image/png": "[encoded data removed]",
      "text/plain": [
       "<matplotlib.figure.Figure at 0x7f94a92a0e10>"
      ]
     },
     "metadata": {},
     "output_type": "display_data"
    }
   ],
   "source": [
    "figsize(16, 6)\n",
    "plot(smooth(d_real_losses), label='D(x) Loss')\n",
    "plot(smooth(d_fake_losses), label='D(G(z)) Loss')\n",
    "plot(smooth(g_losses), label='G(z) loss')\n",
    "plot(smooth(divergences), label='divergences')\n",
    "\n",
    "grid()\n",
    "legend()"
   ]
  },
  {
   "cell_type": "code",
   "execution_count": 13,
   "metadata": {
    "collapsed": false,
    "deletable": true,
    "editable": true
   },
   "outputs": [
    {
     "data": {
      "text/plain": [
       "<matplotlib.legend.Legend at 0x7f949c234d30>"
      ]
     },
     "execution_count": 13,
     "metadata": {},
     "output_type": "execute_result"
    },
    {
     "data": {
      "image/png": "[encoded data removed]",
      "text/plain": [
       "<matplotlib.figure.Figure at 0x7f94f635feb8>"
      ]
     },
     "metadata": {},
     "output_type": "display_data"
    }
   ],
   "source": [
    "plot(d_real_losses, label='D(x) Loss')\n",
    "plot(d_fake_losses, label='D(G(z)) Loss')\n",
    "plot(g_losses, label='G(z) loss')\n",
    "plot(divergences, label='divergences')\n",
    "\n",
    "yscale('log')\n",
    "grid()\n",
    "legend()"
   ]
  },
  {
   "cell_type": "markdown",
   "metadata": {
    "deletable": true,
    "editable": true
   },
   "source": [
    "# Evaluate\n",
    "\n",
    "## Evaluate Generator"
   ]
  },
  {
   "cell_type": "code",
   "execution_count": 23,
   "metadata": {
    "collapsed": false,
    "deletable": true,
    "editable": true
   },
   "outputs": [
    {
     "data": {
      "image/png": "[encoded data removed]",
      "text/plain": [
       "<matplotlib.figure.Figure at 0x7f9485522a20>"
      ]
     },
     "metadata": {},
     "output_type": "display_data"
    },
    {
     "data": {
      "image/png": "[encoded data removed]",
      "text/plain": [
       "<matplotlib.figure.Figure at 0x7f947dad8f98>"
      ]
     },
     "metadata": {},
     "output_type": "display_data"
    }
   ],
   "source": [
    "fake_distributions = Variable(torch.randn((BATCH_SIZE, 100)).cuda())\n",
    "images = G(fake_distributions).view((-1, 28, 28)).data.cpu().numpy()\n",
    "\n",
    "imshow(images[0], cmap=cm.gray_r)\n",
    "\n",
    "fig, subplots = pylab.subplots(4, 7) # subplots(y축, x축 갯수)\n",
    "\n",
    "idx = 0\n",
    "for _subs in subplots:\n",
    "    for subplot in _subs:\n",
    "        d = images[idx]\n",
    "        subplot.get_xaxis().set_visible(False)\n",
    "        subplot.get_yaxis().set_visible(False)\n",
    "        subplot.imshow(d, cmap=cm.gray_r)\n",
    "        idx += 1\n"
   ]
  },
  {
   "cell_type": "markdown",
   "metadata": {
    "deletable": true,
    "editable": true
   },
   "source": [
    "## Evaluate Discriminator"
   ]
  },
  {
   "cell_type": "code",
   "execution_count": 15,
   "metadata": {
    "collapsed": false,
    "deletable": true,
    "editable": true
   },
   "outputs": [
    {
     "name": "stdout",
     "output_type": "stream",
     "text": [
      "Discriminator Real Image Accuracy: 0.8037\n",
      "Discriminator Fake Image Accuracy: 0.9195\n"
     ]
    }
   ],
   "source": [
    "n_test = test_loader.dataset.test_data.size()[0]\n",
    "y_test_real_labels = np.ones((n_test, 1))\n",
    "y_test_fake_labels = np.zeros((n_test, 1))\n",
    "\n",
    "# Predict Real Images\n",
    "test_data = Variable(test_loader.dataset.test_data.cuda().type_as(torch.cuda.FloatTensor()))\n",
    "y_test_real_pred = D(test_data)\n",
    "\n",
    "\n",
    "# Predict Fake Images\n",
    "fake_distributions = Variable(torch.randn((n_test, 100)).cuda())\n",
    "fake_images = G(fake_distributions).detach()\n",
    "y_test_fake_pred = D(fake_images)\n",
    "\n",
    "# Evaluate\n",
    "y_test_real_pred = torch.round(y_test_real_pred).data.cpu().numpy()\n",
    "y_test_fake_pred = torch.round(y_test_fake_pred).data.cpu().numpy()\n",
    "\n",
    "print('Discriminator Real Image Accuracy:', accuracy_score(y_test_real_labels, y_test_real_pred))\n",
    "print('Discriminator Fake Image Accuracy:', accuracy_score(y_test_fake_labels, y_test_fake_pred))"
   ]
  }
 ],
 "metadata": {
  "kernelspec": {
   "display_name": "Python 3",
   "language": "python",
   "name": "python3"
  },
  "language_info": {
   "codemirror_mode": {
    "name": "ipython",
    "version": 3
   },
   "file_extension": ".py",
   "mimetype": "text/x-python",
   "name": "python",
   "nbconvert_exporter": "python",
   "pygments_lexer": "ipython3",
   "version": "3.6.0"
  }
 },
 "nbformat": 4,
 "nbformat_minor": 2
}
