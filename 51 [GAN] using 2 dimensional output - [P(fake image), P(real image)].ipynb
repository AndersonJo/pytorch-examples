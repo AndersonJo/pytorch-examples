{
 "cells": [
  {
   "cell_type": "code",
   "execution_count": 1,
   "metadata": {
    "collapsed": false,
    "deletable": true,
    "editable": true
   },
   "outputs": [
    {
     "name": "stdout",
     "output_type": "stream",
     "text": [
      "Populating the interactive namespace from numpy and matplotlib\n"
     ]
    }
   ],
   "source": [
    "%pylab inline\n",
    "import numpy as np\n",
    "import torch\n",
    "\n",
    "from torch import nn\n",
    "from torch import optim\n",
    "from torch.nn import functional as F\n",
    "from torch.autograd import Variable\n",
    "from torch.utils.data import dataloader\n",
    "\n",
    "from torchvision import transforms\n",
    "from torchvision.datasets import MNIST"
   ]
  },
  {
   "cell_type": "markdown",
   "metadata": {
    "deletable": true,
    "editable": true
   },
   "source": [
    "## Configuration"
   ]
  },
  {
   "cell_type": "code",
   "execution_count": 2,
   "metadata": {
    "collapsed": true,
    "deletable": true,
    "editable": true
   },
   "outputs": [],
   "source": [
    "BATCH_SIZE = 32"
   ]
  },
  {
   "cell_type": "markdown",
   "metadata": {
    "deletable": true,
    "editable": true
   },
   "source": [
    "## Data (MNIST)"
   ]
  },
  {
   "cell_type": "code",
   "execution_count": 3,
   "metadata": {
    "collapsed": false,
    "deletable": true,
    "editable": true
   },
   "outputs": [],
   "source": [
    "train = MNIST('./data', train=True, download=True, transform=transforms.Compose([\n",
    "    transforms.ToTensor(), # ToTensor does min-max normalization. \n",
    "]), )\n",
    "\n",
    "test = MNIST('./data', train=False, download=True, transform=transforms.Compose([\n",
    "    transforms.ToTensor(), # ToTensor does min-max normalization. \n",
    "    \n",
    "]), )\n",
    "\n",
    "# Create DataLoader\n",
    "dataloader_args = dict(shuffle=True, batch_size=BATCH_SIZE ,num_workers=1, pin_memory=True)\n",
    "train_loader = dataloader.DataLoader(train, **dataloader_args)\n",
    "test_loader = dataloader.DataLoader(test, **dataloader_args)"
   ]
  },
  {
   "cell_type": "markdown",
   "metadata": {
    "deletable": true,
    "editable": true
   },
   "source": [
    "## Model Discriminator\n",
    "\n",
    "### Discriminator"
   ]
  },
  {
   "cell_type": "code",
   "execution_count": 4,
   "metadata": {
    "collapsed": false,
    "deletable": true,
    "editable": true
   },
   "outputs": [
    {
     "name": "stdout",
     "output_type": "stream",
     "text": [
      "Discriminator (\n",
      "  (fc1): Linear (784 -> 548)\n",
      "  (fc2): Linear (548 -> 252)\n",
      "  (fc3): Linear (252 -> 2)\n",
      "  (bc1): BatchNorm1d(548, eps=1e-05, momentum=0.1, affine=True)\n",
      "  (bc2): BatchNorm1d(252, eps=1e-05, momentum=0.1, affine=True)\n",
      ")\n"
     ]
    }
   ],
   "source": [
    "class Discriminator(nn.Module):\n",
    "    def __init__(self):\n",
    "        super(Discriminator, self).__init__()\n",
    "        \n",
    "        self.fc1 = nn.Linear(784, 548)\n",
    "        self.fc2 = nn.Linear(548, 252)\n",
    "        self.fc3 = nn.Linear(252, 2)\n",
    "        \n",
    "        self.bc1 = nn.BatchNorm1d(548)\n",
    "        self.bc2 = nn.BatchNorm1d(252)\n",
    "                \n",
    "    def forward(self, x):\n",
    "        x = x.view((-1, 784))\n",
    "        h = self.fc1(x)\n",
    "        h = self.bc1(h)\n",
    "        h = F.relu(h)\n",
    "        h = F.dropout(h, p=0.5, training=self.training)\n",
    "        \n",
    "        h = self.fc2(h)\n",
    "        h = self.bc2(h)\n",
    "        h = F.relu(h)\n",
    "        h = F.dropout(h, p=0.2, training=self.training)\n",
    "        \n",
    "        h = self.fc3(h)\n",
    "        out = F.sigmoid(h)\n",
    "        return out\n",
    "\n",
    "D = Discriminator()\n",
    "print(D.cuda()) # CUDA!\n",
    "d_optimizer = optim.Adam(D.parameters(), lr=0.001)"
   ]
  },
  {
   "cell_type": "markdown",
   "metadata": {
    "deletable": true,
    "editable": true
   },
   "source": [
    "### Generator"
   ]
  },
  {
   "cell_type": "code",
   "execution_count": 5,
   "metadata": {
    "collapsed": false,
    "deletable": true,
    "editable": true
   },
   "outputs": [
    {
     "name": "stdout",
     "output_type": "stream",
     "text": [
      "Generator (\n",
      "  (fc1): Linear (100 -> 196)\n",
      "  (fc2): Linear (196 -> 289)\n",
      "  (fc3): Linear (289 -> 361)\n",
      "  (fc4): Linear (361 -> 529)\n",
      "  (fc5): Linear (529 -> 784)\n",
      "  (bc1): BatchNorm1d(196, eps=1e-05, momentum=0.1, affine=True)\n",
      "  (bc2): BatchNorm1d(289, eps=1e-05, momentum=0.1, affine=True)\n",
      "  (bc3): BatchNorm1d(361, eps=1e-05, momentum=0.1, affine=True)\n",
      "  (bc4): BatchNorm1d(529, eps=1e-05, momentum=0.1, affine=True)\n",
      ")\n"
     ]
    }
   ],
   "source": [
    "class Generator(nn.Module):\n",
    "    def __init__(self):\n",
    "        super(Generator, self).__init__()\n",
    "        \n",
    "        self.fc1 = nn.Linear(100, 196)\n",
    "        self.fc2 = nn.Linear(196, 289)\n",
    "        self.fc3 = nn.Linear(289, 361)\n",
    "        self.fc4 = nn.Linear(361, 529)\n",
    "        self.fc5 = nn.Linear(529, 784)\n",
    "        \n",
    "        self.bc1 = nn.BatchNorm1d(196)\n",
    "        self.bc2 = nn.BatchNorm1d(289)\n",
    "        self.bc3 = nn.BatchNorm1d(361)\n",
    "        self.bc4 = nn.BatchNorm1d(529)\n",
    "    \n",
    "    def forward(self, x):\n",
    "        h = self.fc1(x)\n",
    "        h = self.bc1(h)\n",
    "        h = F.relu(h)\n",
    "        h = F.dropout(h, p=0.5, training=self.training)\n",
    "        \n",
    "        h = self.fc2(h)\n",
    "        h = self.bc2(h)\n",
    "        h = F.relu(h)\n",
    "        h = F.dropout(h, p=0.3, training=self.training)\n",
    "        \n",
    "        h = self.fc3(h)\n",
    "        h = self.bc3(h)\n",
    "        h = F.relu(h)\n",
    "        h = F.dropout(h, p=0.2, training=self.training)\n",
    "        \n",
    "        h = self.fc4(h)\n",
    "        h = self.bc4(h)\n",
    "        h = F.relu(h)\n",
    "        h = F.dropout(h, p=0.2, training=self.training)\n",
    "        \n",
    "        h = self.fc5(h)\n",
    "        out = F.sigmoid(h)\n",
    "        return out\n",
    "\n",
    "G = Generator()\n",
    "print(G.cuda())\n",
    "g_optimizer = optim.Adam(G.parameters(), lr=0.001)"
   ]
  },
  {
   "cell_type": "markdown",
   "metadata": {
    "deletable": true,
    "editable": true
   },
   "source": [
    "## Train\n",
    "\n",
    "* $ [0, 1]$ : real images\n",
    "* $[1, 0]$ : fake images"
   ]
  },
  {
   "cell_type": "code",
   "execution_count": 6,
   "metadata": {
    "collapsed": false,
    "deletable": true,
    "editable": true
   },
   "outputs": [],
   "source": [
    "real_y = torch.zeros((BATCH_SIZE, 2))\n",
    "real_y[:, 1] = 1\n",
    "real_y = Variable(real_y.cuda())\n",
    "\n",
    "fake_y = torch.zeros((BATCH_SIZE, 2))\n",
    "fake_y[:, 0] = 1\n",
    "fake_y = Variable(fake_y.cuda())\n",
    "\n",
    "loss_f = nn.BCELoss()"
   ]
  },
  {
   "cell_type": "code",
   "execution_count": 41,
   "metadata": {
    "collapsed": false,
    "deletable": true,
    "editable": true,
    "scrolled": false
   },
   "outputs": [
    {
     "name": "stdout",
     "output_type": "stream",
     "text": [
      "Epoch:[0] Step:[1800] - [D_real_loss]: 0.5371 [D_fake_loss]: 0.2362 [G loss]:1.8591\n",
      "Epoch:[1] Step:[1800] - [D_real_loss]: 0.2333 [D_fake_loss]: 0.5074 [G loss]:2.1714\n",
      "Epoch:[2] Step:[1800] - [D_real_loss]: 0.03098 [D_fake_loss]: 0.5686 [G loss]:1.193\n",
      "Epoch:[3] Step:[1800] - [D_real_loss]: 0.2384 [D_fake_loss]: 0.171 [G loss]:2.29887\n",
      "Epoch:[4] Step:[1800] - [D_real_loss]: 0.1685 [D_fake_loss]: 0.3452 [G loss]:1.88692\n",
      "Epoch:[5] Step:[1800] - [D_real_loss]: 0.09876 [D_fake_loss]: 0.4257 [G loss]:3.2642\n",
      "Epoch:[6] Step:[1800] - [D_real_loss]: 0.005399 [D_fake_loss]: 0.1076 [G loss]:2.6515\n",
      "Epoch:[7] Step:[1800] - [D_real_loss]: 0.09454 [D_fake_loss]: 0.1993 [G loss]:1.397\n",
      "Epoch:[8] Step:[1800] - [D_real_loss]: 0.08877 [D_fake_loss]: 0.1924 [G loss]:2.011\n",
      "Epoch:[9] Step:[1800] - [D_real_loss]: 0.928 [D_fake_loss]: 0.03352 [G loss]:2.58876\n"
     ]
    }
   ],
   "source": [
    "# Train Discriminator with Generator not being trained\n",
    "# 먼저 Discriminator를 학습시킵니다.\n",
    "# 이때 real image와 fake이미지 두개의 데이터를 사용하여 학습합니다. \n",
    "# Discriminator를 학습시킬때는 Generator는 학습시키면 안됩니다.\n",
    "for epoch in range(10):\n",
    "    for step, (real_images, _) in enumerate(train_loader):\n",
    "        real_images = Variable(real_images.cuda())\n",
    "\n",
    "        # Init D\n",
    "        d_optimizer.zero_grad()\n",
    "\n",
    "        ###############################################\n",
    "        # Train D with real images\n",
    "        ###############################################\n",
    "        y_real_pred = D(real_images)\n",
    "        d_real_loss = loss_f(y_real_pred, real_y)\n",
    "        d_real_loss.backward()\n",
    "        d_optimizer.step()\n",
    "\n",
    "        ###############################################\n",
    "        # Train D with fake images but do not train G\n",
    "        ###############################################\n",
    "        fake_distributions = Variable(torch.randn((BATCH_SIZE, 100)).cuda())\n",
    "        fake_images = G(fake_distributions).detach()\n",
    "        y_pred = D(fake_images)\n",
    "        d_fake_loss = loss_f(y_pred, fake_y)\n",
    "        d_fake_loss.backward()\n",
    "        d_optimizer.step()\n",
    "\n",
    "        ###############################################\n",
    "        # Train G with fake images but do not train G\n",
    "        ###############################################\n",
    "        g_optimizer.zero_grad()\n",
    "        \n",
    "        fake_distributions = Variable(torch.randn((BATCH_SIZE, 100)).cuda())\n",
    "        fake_images = G(fake_distributions)\n",
    "        y_pred = D(fake_images)\n",
    "        g_loss = loss_f(y_pred, real_y)\n",
    "        g_loss.backward()\n",
    "        g_optimizer.step()\n",
    "        \n",
    "        if step % 200 == 0:\n",
    "            print(f'\\rEpoch:[{epoch}] Step:[{step}] -',\n",
    "                  '[D_real_loss]: {:.4}'.format(d_real_loss.data[0]),\n",
    "                  '[D_fake_loss]: {:.4}'.format(d_fake_loss.data[0]), \n",
    "                  '[G_loss]:{:.4}'.format(g_loss.data[0]), end='') \n",
    "    print()"
   ]
  },
  {
   "cell_type": "code",
   "execution_count": 45,
   "metadata": {
    "collapsed": false,
    "deletable": true,
    "editable": true
   },
   "outputs": [
    {
     "data": {
      "image/png": "[encoded data removed]",
      "text/plain": [
       "<matplotlib.figure.Figure at 0x7fb5319e4978>"
      ]
     },
     "metadata": {},
     "output_type": "display_data"
    },
    {
     "data": {
      "image/png": "[encoded data removed]",
      "text/plain": [
       "<matplotlib.figure.Figure at 0x7fb530c8f860>"
      ]
     },
     "metadata": {},
     "output_type": "display_data"
    }
   ],
   "source": [
    "fake_distributions = Variable(torch.randn((BATCH_SIZE, 100)).cuda())\n",
    "images = G(fake_distributions).view((-1, 28, 28)).data.cpu().numpy()\n",
    "\n",
    "images[0]\n",
    "imshow(images[0], cmap=cm.gray_r)\n",
    "\n",
    "fig, subplots = pylab.subplots(4, 5) # subplots(y축, x축 갯수)\n",
    "\n",
    "idx = 10\n",
    "for _subs in subplots:\n",
    "    for subplot in _subs:\n",
    "        d = images[idx]\n",
    "        subplot.get_xaxis().set_visible(False)\n",
    "        subplot.get_yaxis().set_visible(False)\n",
    "        subplot.imshow(d, cmap=cm.gray_r)\n",
    "        idx += 1\n"
   ]
  }
 ],
 "metadata": {
  "kernelspec": {
   "display_name": "Python 3",
   "language": "python",
   "name": "python3"
  },
  "language_info": {
   "codemirror_mode": {
    "name": "ipython",
    "version": 3
   },
   "file_extension": ".py",
   "mimetype": "text/x-python",
   "name": "python",
   "nbconvert_exporter": "python",
   "pygments_lexer": "ipython3",
   "version": "3.6.0"
  }
 },
 "nbformat": 4,
 "nbformat_minor": 2
}
